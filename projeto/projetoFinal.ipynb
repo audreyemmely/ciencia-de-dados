{
  "nbformat": 4,
  "nbformat_minor": 0,
  "metadata": {
    "colab": {
      "name": "projetoFinal.ipynb",
      "provenance": [],
      "collapsed_sections": []
    },
    "kernelspec": {
      "name": "python3",
      "display_name": "Python 3"
    }
  },
  "cells": [
    {
      "cell_type": "code",
      "metadata": {
        "id": "nkwEjrL8YZp3"
      },
      "source": [
        "import pandas as pd\n",
        "import seaborn as sns\n",
        "import matplotlib.pyplot as plt\n",
        "import numpy as np"
      ],
      "execution_count": null,
      "outputs": []
    },
    {
      "cell_type": "code",
      "metadata": {
        "id": "5ivUF4kWYd4v"
      },
      "source": [
        "base = pd.read_csv('https://raw.githubusercontent.com/audreyemmely/ciencia-de-dados/main/projeto/dados/pessoal-forca-trabalho.csv')"
      ],
      "execution_count": null,
      "outputs": []
    },
    {
      "cell_type": "code",
      "metadata": {
        "colab": {
          "base_uri": "https://localhost:8080/",
          "height": 564
        },
        "id": "gdXO82hxYnoV",
        "outputId": "cf208a3d-dbd3-4fbc-cafc-0939e77a64ec"
      },
      "source": [
        "base.head()"
      ],
      "execution_count": null,
      "outputs": [
        {
          "output_type": "execute_result",
          "data": {
            "text/html": [
              "<div>\n",
              "<style scoped>\n",
              "    .dataframe tbody tr th:only-of-type {\n",
              "        vertical-align: middle;\n",
              "    }\n",
              "\n",
              "    .dataframe tbody tr th {\n",
              "        vertical-align: top;\n",
              "    }\n",
              "\n",
              "    .dataframe thead th {\n",
              "        text-align: right;\n",
              "    }\n",
              "</style>\n",
              "<table border=\"1\" class=\"dataframe\">\n",
              "  <thead>\n",
              "    <tr style=\"text-align: right;\">\n",
              "      <th></th>\n",
              "      <th>orgao_superior_codigo_siorg</th>\n",
              "      <th>orgao_superior_nome</th>\n",
              "      <th>orgao_superior_sigla</th>\n",
              "      <th>orgao_codigo_siorg</th>\n",
              "      <th>orgao_nome</th>\n",
              "      <th>orgao_sigla</th>\n",
              "      <th>orgao_como_no_raiox_nome</th>\n",
              "      <th>orgao_como_no_raiox_sigla</th>\n",
              "      <th>ano_mes_referencia</th>\n",
              "      <th>sexo</th>\n",
              "      <th>faixa_etaria</th>\n",
              "      <th>escolaridade</th>\n",
              "      <th>regime_juridico</th>\n",
              "      <th>situacao_vinculo_servidor</th>\n",
              "      <th>possui_vinculo</th>\n",
              "      <th>quantidade_forca_trabalho</th>\n",
              "      <th>remuneracao_media</th>\n",
              "    </tr>\n",
              "  </thead>\n",
              "  <tbody>\n",
              "    <tr>\n",
              "      <th>0</th>\n",
              "      <td>14</td>\n",
              "      <td>MINISTÉRIO DA AGRICULTURA, PECUÁRIA E ABASTECI...</td>\n",
              "      <td>MAPA</td>\n",
              "      <td>14</td>\n",
              "      <td>MINISTÉRIO DA AGRICULTURA, PECUÁRIA E ABASTECI...</td>\n",
              "      <td>MAPA</td>\n",
              "      <td>MINISTÉRIO DA AGRICULTURA, PECUÁRIA E ABASTECI...</td>\n",
              "      <td>MAPA</td>\n",
              "      <td>202008</td>\n",
              "      <td>F</td>\n",
              "      <td>20 A 24 ANOS</td>\n",
              "      <td>2O GR COMPL OU TEC PROFISS</td>\n",
              "      <td>EST</td>\n",
              "      <td>ATIVO PERMANENTE</td>\n",
              "      <td>COM VÍNCULO</td>\n",
              "      <td>1</td>\n",
              "      <td>8789.350</td>\n",
              "    </tr>\n",
              "    <tr>\n",
              "      <th>1</th>\n",
              "      <td>14</td>\n",
              "      <td>MINISTÉRIO DA AGRICULTURA, PECUÁRIA E ABASTECI...</td>\n",
              "      <td>MAPA</td>\n",
              "      <td>14</td>\n",
              "      <td>MINISTÉRIO DA AGRICULTURA, PECUÁRIA E ABASTECI...</td>\n",
              "      <td>MAPA</td>\n",
              "      <td>MINISTÉRIO DA AGRICULTURA, PECUÁRIA E ABASTECI...</td>\n",
              "      <td>MAPA</td>\n",
              "      <td>202008</td>\n",
              "      <td>F</td>\n",
              "      <td>20 A 24 ANOS</td>\n",
              "      <td>2O GR COMPL OU TEC PROFISS</td>\n",
              "      <td>EST</td>\n",
              "      <td>NOMEADO CARGO COMIS.</td>\n",
              "      <td>SEM VÍNCULO</td>\n",
              "      <td>1</td>\n",
              "      <td>2701.460</td>\n",
              "    </tr>\n",
              "    <tr>\n",
              "      <th>2</th>\n",
              "      <td>14</td>\n",
              "      <td>MINISTÉRIO DA AGRICULTURA, PECUÁRIA E ABASTECI...</td>\n",
              "      <td>MAPA</td>\n",
              "      <td>14</td>\n",
              "      <td>MINISTÉRIO DA AGRICULTURA, PECUÁRIA E ABASTECI...</td>\n",
              "      <td>MAPA</td>\n",
              "      <td>MINISTÉRIO DA AGRICULTURA, PECUÁRIA E ABASTECI...</td>\n",
              "      <td>MAPA</td>\n",
              "      <td>202008</td>\n",
              "      <td>F</td>\n",
              "      <td>20 A 24 ANOS</td>\n",
              "      <td>SUP COMPL OU HAB LEGAL EQV</td>\n",
              "      <td>CDT</td>\n",
              "      <td>CONTRATO TEMPORARIO</td>\n",
              "      <td>COM VÍNCULO</td>\n",
              "      <td>1</td>\n",
              "      <td>8052.690</td>\n",
              "    </tr>\n",
              "    <tr>\n",
              "      <th>3</th>\n",
              "      <td>14</td>\n",
              "      <td>MINISTÉRIO DA AGRICULTURA, PECUÁRIA E ABASTECI...</td>\n",
              "      <td>MAPA</td>\n",
              "      <td>14</td>\n",
              "      <td>MINISTÉRIO DA AGRICULTURA, PECUÁRIA E ABASTECI...</td>\n",
              "      <td>MAPA</td>\n",
              "      <td>MINISTÉRIO DA AGRICULTURA, PECUÁRIA E ABASTECI...</td>\n",
              "      <td>MAPA</td>\n",
              "      <td>202008</td>\n",
              "      <td>F</td>\n",
              "      <td>20 A 24 ANOS</td>\n",
              "      <td>SUP COMPL OU HAB LEGAL EQV</td>\n",
              "      <td>EST</td>\n",
              "      <td>NOMEADO CARGO COMIS.</td>\n",
              "      <td>SEM VÍNCULO</td>\n",
              "      <td>5</td>\n",
              "      <td>3145.034</td>\n",
              "    </tr>\n",
              "    <tr>\n",
              "      <th>4</th>\n",
              "      <td>14</td>\n",
              "      <td>MINISTÉRIO DA AGRICULTURA, PECUÁRIA E ABASTECI...</td>\n",
              "      <td>MAPA</td>\n",
              "      <td>14</td>\n",
              "      <td>MINISTÉRIO DA AGRICULTURA, PECUÁRIA E ABASTECI...</td>\n",
              "      <td>MAPA</td>\n",
              "      <td>MINISTÉRIO DA AGRICULTURA, PECUÁRIA E ABASTECI...</td>\n",
              "      <td>MAPA</td>\n",
              "      <td>202008</td>\n",
              "      <td>F</td>\n",
              "      <td>20 A 24 ANOS</td>\n",
              "      <td>SUPERIOR INCOMPLETO</td>\n",
              "      <td>EST</td>\n",
              "      <td>ATIVO PERMANENTE</td>\n",
              "      <td>COM VÍNCULO</td>\n",
              "      <td>1</td>\n",
              "      <td>7048.090</td>\n",
              "    </tr>\n",
              "  </tbody>\n",
              "</table>\n",
              "</div>"
            ],
            "text/plain": [
              "   orgao_superior_codigo_siorg  ... remuneracao_media\n",
              "0                           14  ...          8789.350\n",
              "1                           14  ...          2701.460\n",
              "2                           14  ...          8052.690\n",
              "3                           14  ...          3145.034\n",
              "4                           14  ...          7048.090\n",
              "\n",
              "[5 rows x 17 columns]"
            ]
          },
          "metadata": {
            "tags": []
          },
          "execution_count": 4
        }
      ]
    },
    {
      "cell_type": "code",
      "metadata": {
        "id": "FxV9GGXqsl8J",
        "colab": {
          "base_uri": "https://localhost:8080/"
        },
        "outputId": "c9e31370-8da3-48d4-fdc1-a3d0243057c2"
      },
      "source": [
        "base.shape"
      ],
      "execution_count": null,
      "outputs": [
        {
          "output_type": "execute_result",
          "data": {
            "text/plain": [
              "(36935, 17)"
            ]
          },
          "metadata": {
            "tags": []
          },
          "execution_count": 5
        }
      ]
    },
    {
      "cell_type": "markdown",
      "metadata": {
        "id": "NrTvZKCfm4be"
      },
      "source": [
        "# Visualização e limpeza dos dados"
      ]
    },
    {
      "cell_type": "code",
      "metadata": {
        "id": "N_0W1s_Omwte"
      },
      "source": [
        "# Remover acentuação dos dados das colunas\n",
        "\n",
        "def remove_accents(input_str):\n",
        "    return input_str.str.normalize('NFKD').str.encode('ascii', errors='ignore').str.decode('utf-8')\n",
        "\n",
        "cols = base.select_dtypes(include=[np.object]).columns\n",
        "\n",
        "base[cols] = base[cols].apply(remove_accents)"
      ],
      "execution_count": null,
      "outputs": []
    },
    {
      "cell_type": "code",
      "metadata": {
        "colab": {
          "base_uri": "https://localhost:8080/",
          "height": 167
        },
        "id": "P3jHPPXqnymh",
        "outputId": "da1bd6e7-b537-4f7a-9eae-4e581c055718"
      },
      "source": [
        "base.head(1)"
      ],
      "execution_count": null,
      "outputs": [
        {
          "output_type": "execute_result",
          "data": {
            "text/html": [
              "<div>\n",
              "<style scoped>\n",
              "    .dataframe tbody tr th:only-of-type {\n",
              "        vertical-align: middle;\n",
              "    }\n",
              "\n",
              "    .dataframe tbody tr th {\n",
              "        vertical-align: top;\n",
              "    }\n",
              "\n",
              "    .dataframe thead th {\n",
              "        text-align: right;\n",
              "    }\n",
              "</style>\n",
              "<table border=\"1\" class=\"dataframe\">\n",
              "  <thead>\n",
              "    <tr style=\"text-align: right;\">\n",
              "      <th></th>\n",
              "      <th>orgao_superior_codigo_siorg</th>\n",
              "      <th>orgao_superior_nome</th>\n",
              "      <th>orgao_superior_sigla</th>\n",
              "      <th>orgao_codigo_siorg</th>\n",
              "      <th>orgao_nome</th>\n",
              "      <th>orgao_sigla</th>\n",
              "      <th>orgao_como_no_raiox_nome</th>\n",
              "      <th>orgao_como_no_raiox_sigla</th>\n",
              "      <th>ano_mes_referencia</th>\n",
              "      <th>sexo</th>\n",
              "      <th>faixa_etaria</th>\n",
              "      <th>escolaridade</th>\n",
              "      <th>regime_juridico</th>\n",
              "      <th>situacao_vinculo_servidor</th>\n",
              "      <th>possui_vinculo</th>\n",
              "      <th>quantidade_forca_trabalho</th>\n",
              "      <th>remuneracao_media</th>\n",
              "    </tr>\n",
              "  </thead>\n",
              "  <tbody>\n",
              "    <tr>\n",
              "      <th>0</th>\n",
              "      <td>14</td>\n",
              "      <td>MINISTERIO DA AGRICULTURA, PECUARIA E ABASTECI...</td>\n",
              "      <td>MAPA</td>\n",
              "      <td>14</td>\n",
              "      <td>MINISTERIO DA AGRICULTURA, PECUARIA E ABASTECI...</td>\n",
              "      <td>MAPA</td>\n",
              "      <td>MINISTERIO DA AGRICULTURA, PECUARIA E ABASTECI...</td>\n",
              "      <td>MAPA</td>\n",
              "      <td>202008</td>\n",
              "      <td>F</td>\n",
              "      <td>20 A 24 ANOS</td>\n",
              "      <td>2O GR COMPL OU TEC PROFISS</td>\n",
              "      <td>EST</td>\n",
              "      <td>ATIVO PERMANENTE</td>\n",
              "      <td>COM VINCULO</td>\n",
              "      <td>1</td>\n",
              "      <td>8789.35</td>\n",
              "    </tr>\n",
              "  </tbody>\n",
              "</table>\n",
              "</div>"
            ],
            "text/plain": [
              "   orgao_superior_codigo_siorg  ... remuneracao_media\n",
              "0                           14  ...           8789.35\n",
              "\n",
              "[1 rows x 17 columns]"
            ]
          },
          "metadata": {
            "tags": []
          },
          "execution_count": 7
        }
      ]
    },
    {
      "cell_type": "code",
      "metadata": {
        "colab": {
          "base_uri": "https://localhost:8080/"
        },
        "id": "HDtLZgxpX46D",
        "outputId": "a3d76da6-aa30-424d-b208-aa51e749943e"
      },
      "source": [
        "orgaoAgrupado = base.groupby(['orgao_superior_nome']).size()\n",
        "orgaoAgrupado"
      ],
      "execution_count": null,
      "outputs": [
        {
          "output_type": "execute_result",
          "data": {
            "text/plain": [
              "orgao_superior_nome\n",
              "ADVOCACIA-GERAL DA UNIAO                                     488\n",
              "CONTROLADORIA-GERAL DA UNIAO                                 147\n",
              "MINISTERIO DA AGRICULTURA, PECUARIA E ABASTECIMENTO          792\n",
              "MINISTERIO DA CIDADANIA                                      235\n",
              "MINISTERIO DA CIENCIA, TECNOLOGIA E INOVACOES                819\n",
              "MINISTERIO DA DEFESA                                        1258\n",
              "MINISTERIO DA ECONOMIA                                      2113\n",
              "MINISTERIO DA EDUCACAO                                     24300\n",
              "MINISTERIO DA INFRAESTRUTURA                                 967\n",
              "MINISTERIO DA JUSTICA E SEGURANCA PUBLICA                    868\n",
              "MINISTERIO DA MULHER, DA FAMILIA E DOS DIREITOS HUMANOS      148\n",
              "MINISTERIO DA SAUDE                                         1295\n",
              "MINISTERIO DAS RELACOES EXTERIORES                           153\n",
              "MINISTERIO DE MINAS E ENERGIA                                585\n",
              "MINISTERIO DO DESENVOLVIMENTO REGIONAL                       551\n",
              "MINISTERIO DO MEIO AMBIENTE                                  867\n",
              "MINISTERIO DO TURISMO                                        808\n",
              "PRESIDENCIA DA REPUBLICA                                     541\n",
              "dtype: int64"
            ]
          },
          "metadata": {
            "tags": []
          },
          "execution_count": 8
        }
      ]
    },
    {
      "cell_type": "code",
      "metadata": {
        "colab": {
          "base_uri": "https://localhost:8080/"
        },
        "id": "FUQ26NTGdMrc",
        "outputId": "ac8cb9da-edd7-416b-8451-500e1f255a30"
      },
      "source": [
        "idadeAgrupada = base.groupby(['faixa_etaria']).size()\n",
        "idadeAgrupada"
      ],
      "execution_count": null,
      "outputs": [
        {
          "output_type": "execute_result",
          "data": {
            "text/plain": [
              "faixa_etaria\n",
              "15 A 19 ANOS         18\n",
              "20 A 24 ANOS       1023\n",
              "25 A 29 ANOS       3099\n",
              "30 A 34 ANOS       4116\n",
              "35 A 39 ANOS       4550\n",
              "40 A 44 ANOS       4107\n",
              "45 A 49 ANOS       3797\n",
              "50 A 54 ANOS       3821\n",
              "55 A 59 ANOS       4048\n",
              "60 A 64 ANOS       3560\n",
              "65 A 69 ANOS       2862\n",
              "70 ANOS OU MAIS    1932\n",
              "NAO INFORMADO         2\n",
              "dtype: int64"
            ]
          },
          "metadata": {
            "tags": []
          },
          "execution_count": 9
        }
      ]
    },
    {
      "cell_type": "code",
      "metadata": {
        "colab": {
          "base_uri": "https://localhost:8080/",
          "height": 360
        },
        "id": "Cr67RzLxdTmx",
        "outputId": "a580d73b-98dd-49d7-e3d5-42424e0c14a2"
      },
      "source": [
        "idadeAgrupada.plot.bar()\n",
        "plt.show()"
      ],
      "execution_count": null,
      "outputs": [
        {
          "output_type": "display_data",
          "data": {
            "image/png": "[encoded data removed]",
            "text/plain": [
              "<Figure size 432x288 with 1 Axes>"
            ]
          },
          "metadata": {
            "tags": [],
            "needs_background": "light"
          }
        }
      ]
    },
    {
      "cell_type": "code",
      "metadata": {
        "colab": {
          "base_uri": "https://localhost:8080/"
        },
        "id": "isq1iOTwfWBH",
        "outputId": "7ed644d1-669d-4ac7-8042-fbb309e40936"
      },
      "source": [
        "# Remove linhas com idades não informadas\n",
        "base = base[base.faixa_etaria != 'NAO INFORMADO']\n",
        "\n",
        "idadeAgrupada = base.groupby(['faixa_etaria']).size()\n",
        "idadeAgrupada"
      ],
      "execution_count": null,
      "outputs": [
        {
          "output_type": "execute_result",
          "data": {
            "text/plain": [
              "faixa_etaria\n",
              "15 A 19 ANOS         18\n",
              "20 A 24 ANOS       1023\n",
              "25 A 29 ANOS       3099\n",
              "30 A 34 ANOS       4116\n",
              "35 A 39 ANOS       4550\n",
              "40 A 44 ANOS       4107\n",
              "45 A 49 ANOS       3797\n",
              "50 A 54 ANOS       3821\n",
              "55 A 59 ANOS       4048\n",
              "60 A 64 ANOS       3560\n",
              "65 A 69 ANOS       2862\n",
              "70 ANOS OU MAIS    1932\n",
              "dtype: int64"
            ]
          },
          "metadata": {
            "tags": []
          },
          "execution_count": 11
        }
      ]
    },
    {
      "cell_type": "code",
      "metadata": {
        "colab": {
          "base_uri": "https://localhost:8080/",
          "height": 360
        },
        "id": "KBrGbHfEf1fn",
        "outputId": "a1f7ea27-3e91-4e5a-a154-3ebae6c2f943"
      },
      "source": [
        "idadeAgrupada.plot.bar()\n",
        "plt.show()"
      ],
      "execution_count": null,
      "outputs": [
        {
          "output_type": "display_data",
          "data": {
            "image/png": "[encoded data removed]",
            "text/plain": [
              "<Figure size 432x288 with 1 Axes>"
            ]
          },
          "metadata": {
            "tags": [],
            "needs_background": "light"
          }
        }
      ]
    },
    {
      "cell_type": "code",
      "metadata": {
        "colab": {
          "base_uri": "https://localhost:8080/"
        },
        "id": "YTf6AQBEX43j",
        "outputId": "311d10bd-884e-4840-d128-bb69041305c1"
      },
      "source": [
        "generoAgrupado = base.groupby(['sexo']).size()\n",
        "generoAgrupado"
      ],
      "execution_count": null,
      "outputs": [
        {
          "output_type": "execute_result",
          "data": {
            "text/plain": [
              "sexo\n",
              "F    17173\n",
              "M    19760\n",
              "dtype: int64"
            ]
          },
          "metadata": {
            "tags": []
          },
          "execution_count": 13
        }
      ]
    },
    {
      "cell_type": "code",
      "metadata": {
        "colab": {
          "base_uri": "https://localhost:8080/",
          "height": 278
        },
        "id": "PV3pOpP9f70K",
        "outputId": "6348c5c8-40ef-470c-b564-462e5be8dbf2"
      },
      "source": [
        "generoAgrupado.plot.bar()\n",
        "plt.show()"
      ],
      "execution_count": null,
      "outputs": [
        {
          "output_type": "display_data",
          "data": {
            "image/png": "[encoded data removed]",
            "text/plain": [
              "<Figure size 432x288 with 1 Axes>"
            ]
          },
          "metadata": {
            "tags": [],
            "needs_background": "light"
          }
        }
      ]
    },
    {
      "cell_type": "code",
      "metadata": {
        "colab": {
          "base_uri": "https://localhost:8080/"
        },
        "id": "gLf9TtdfX40D",
        "outputId": "fea500ad-8a43-452c-8a1a-9ea35b9839f8"
      },
      "source": [
        "base['remuneracao_media'].describe()"
      ],
      "execution_count": null,
      "outputs": [
        {
          "output_type": "execute_result",
          "data": {
            "text/plain": [
              "count    36933.000000\n",
              "mean      6456.709124\n",
              "std       5369.700347\n",
              "min          0.000000\n",
              "25%       3125.267000\n",
              "50%       5201.040000\n",
              "75%       8733.180000\n",
              "max      37316.830000\n",
              "Name: remuneracao_media, dtype: float64"
            ]
          },
          "metadata": {
            "tags": []
          },
          "execution_count": 15
        }
      ]
    },
    {
      "cell_type": "code",
      "metadata": {
        "colab": {
          "base_uri": "https://localhost:8080/"
        },
        "id": "sYAREuc7minI",
        "outputId": "6476e7b3-8737-4388-dece-f295c3cef515"
      },
      "source": [
        "# Remove linhas com remuneração media < 200  (lixo/ruido)\n",
        "base = base[base.remuneracao_media >= 200]\n",
        "\n",
        "base['remuneracao_media'].describe()"
      ],
      "execution_count": null,
      "outputs": [
        {
          "output_type": "execute_result",
          "data": {
            "text/plain": [
              "count    31947.000000\n",
              "mean      7463.997482\n",
              "std       5081.134252\n",
              "min        201.592500\n",
              "25%       3852.760000\n",
              "50%       5831.210000\n",
              "75%       9710.682667\n",
              "max      37316.830000\n",
              "Name: remuneracao_media, dtype: float64"
            ]
          },
          "metadata": {
            "tags": []
          },
          "execution_count": 16
        }
      ]
    },
    {
      "cell_type": "code",
      "metadata": {
        "colab": {
          "base_uri": "https://localhost:8080/"
        },
        "id": "uYyzgTv3ZmkL",
        "outputId": "6af996b4-97f3-4f51-da79-a5f914c249c0"
      },
      "source": [
        "base.isnull().sum()"
      ],
      "execution_count": null,
      "outputs": [
        {
          "output_type": "execute_result",
          "data": {
            "text/plain": [
              "orgao_superior_codigo_siorg    0\n",
              "orgao_superior_nome            0\n",
              "orgao_superior_sigla           0\n",
              "orgao_codigo_siorg             0\n",
              "orgao_nome                     0\n",
              "orgao_sigla                    0\n",
              "orgao_como_no_raiox_nome       0\n",
              "orgao_como_no_raiox_sigla      0\n",
              "ano_mes_referencia             0\n",
              "sexo                           0\n",
              "faixa_etaria                   0\n",
              "escolaridade                   0\n",
              "regime_juridico                0\n",
              "situacao_vinculo_servidor      0\n",
              "possui_vinculo                 0\n",
              "quantidade_forca_trabalho      0\n",
              "remuneracao_media              0\n",
              "dtype: int64"
            ]
          },
          "metadata": {
            "tags": []
          },
          "execution_count": 17
        }
      ]
    },
    {
      "cell_type": "code",
      "metadata": {
        "colab": {
          "base_uri": "https://localhost:8080/",
          "height": 281
        },
        "id": "eOl9PooNX4ny",
        "outputId": "ca9c4a50-22af-4f11-fc5f-adcea8ae524c"
      },
      "source": [
        "sns.boxplot(data = base['remuneracao_media']).set_title('Remuneração média')\n",
        "plt.show()"
      ],
      "execution_count": null,
      "outputs": [
        {
          "output_type": "display_data",
          "data": {
            "image/png": "[encoded data removed]",
            "text/plain": [
              "<Figure size 432x288 with 1 Axes>"
            ]
          },
          "metadata": {
            "tags": [],
            "needs_background": "light"
          }
        }
      ]
    },
    {
      "cell_type": "code",
      "metadata": {
        "colab": {
          "base_uri": "https://localhost:8080/"
        },
        "id": "L-5nI3wIjC5_",
        "outputId": "3c4a75ab-d439-4573-8c6f-36b22787e8ed"
      },
      "source": [
        "base.groupby(['escolaridade']).size()"
      ],
      "execution_count": null,
      "outputs": [
        {
          "output_type": "execute_result",
          "data": {
            "text/plain": [
              "escolaridade\n",
              "1O GR COMPL - 8A SER COMPL      919\n",
              "1O GR INC - 1A A 4A SER INC       7\n",
              "1O GR INC - 4A SERIE COMPL       19\n",
              "1O GR INC - 5A A 8A SER INC     642\n",
              "2O GR COMPL OU TEC PROFISS     3748\n",
              "2O GR INCOMPLETO                 70\n",
              "ALFABETIZ S/ CURSOS REGUL       276\n",
              "ANALFABETO                        4\n",
              "APERFEICOAMENTO NIV MED(T)       57\n",
              "APERFEICOAMENTO NIV SUP(T)      253\n",
              "AUXILIAR DE ENFERMAGEM(T)         3\n",
              "BACHAREL(T)                     111\n",
              "CURSO CAP/QUAL P MIN180H(T)      53\n",
              "CURSO QUAL PROF MIN 180H(T)      44\n",
              "CURSO QUAL PROF MIN 250H(T)      40\n",
              "CURSO QUAL PROF MIN 360H(T)     348\n",
              "DOUTORADO                       757\n",
              "DOUTORADO(T)                   2919\n",
              "ENSINO FUNDAMENTAL(T)           179\n",
              "ESPECIALIZACAO (RMI) (T)          2\n",
              "ESPECIALIZACAO NIV MED(T)       120\n",
              "ESPECIALIZACAO NIV SUP(T)      2792\n",
              "GRAD O+RSC-I(LEI12772/12(T)     166\n",
              "GRADUACAO NIV SUP COMPLE(T)    2641\n",
              "LICENCIATURA PLENA(T)            12\n",
              "LICENCIATURA(T)                  64\n",
              "MESTRADO                       1473\n",
              "MESTRADO(T)                    2818\n",
              "MESTRE+RSC-III LEI 12772/12    1173\n",
              "NIVEL MEDIO(T)                  866\n",
              "POS-DOUTORADO(T)                  9\n",
              "POS-GRAD O+RSC-II L12772/12     847\n",
              "POS-GRADUACAO(T)                391\n",
              "SUP COMPL OU HAB LEGAL EQV     6369\n",
              "SUPERIOR INCOMPLETO             650\n",
              "TECNICO NIV MED COMPLETO(T)    1105\n",
              "dtype: int64"
            ]
          },
          "metadata": {
            "tags": []
          },
          "execution_count": 19
        }
      ]
    },
    {
      "cell_type": "code",
      "metadata": {
        "colab": {
          "base_uri": "https://localhost:8080/",
          "height": 397
        },
        "id": "lBrx7547l6lT",
        "outputId": "a293b0e6-cb92-42f8-f9b7-810f50c782cd"
      },
      "source": [
        "# Limpeza e agrupamento das classes de escolaridade\n",
        "\n",
        "base.loc[base['escolaridade'] == '1O GR COMPL - 8A SER COMPL', 'escolaridade'] = \"ENSINO_FUNDAMENTAL\"\n",
        "base.loc[base['escolaridade'] == '1O GR INC - 1A A 4A SER INC', 'escolaridade'] = \"ALFABETIZADO\"\n",
        "base.loc[base['escolaridade'] == '1O GR INC - 4A SERIE COMPL', 'escolaridade'] = \"ALFABETIZADO\"\n",
        "base.loc[base['escolaridade'] == '1O GR INC - 5A A 8A SER INC', 'escolaridade'] = \"ALFABETIZADO\"\n",
        "base.loc[base['escolaridade'] == '2O GR COMPL OU TEC PROFISS', 'escolaridade'] = \"ENSINO_MEDIO/TECNICO\"\n",
        "base.loc[base['escolaridade'] == '2O GR INCOMPLETO', 'escolaridade'] = \"ENSINO_FUNDAMENTAL\"\n",
        "base.loc[base['escolaridade'] == 'ALFABETIZ S/ CURSOS REGUL', 'escolaridade'] = \"ALFABETIZADO\"\n",
        "base.loc[base['escolaridade'] == 'APERFEICOAMENTO NIV MED(T)', 'escolaridade'] = \"ENSINO_MEDIO/TECNICO\"\n",
        "base.loc[base['escolaridade'] == 'APERFEICOAMENTO NIV SUP(T)', 'escolaridade'] = \"ENSINO_SUPERIOR\"\n",
        "base.loc[base['escolaridade'] == 'AUXILIAR DE ENFERMAGEM(T)', 'escolaridade'] = \"retirar\" # não é uma escolaridade\n",
        "base.loc[base['escolaridade'] == 'BACHAREL(T)', 'escolaridade'] = \"ENSINO_SUPERIOR\"\n",
        "base.loc[base['escolaridade'] == 'CURSO CAP/QUAL P MIN180H(T)', 'escolaridade'] = \"ENSINO_MEDIO/TECNICO\"\n",
        "base.loc[base['escolaridade'] == 'CURSO QUAL PROF MIN 180H(T)', 'escolaridade'] = \"ENSINO_MEDIO/TECNICO\"\n",
        "base.loc[base['escolaridade'] == 'CURSO QUAL PROF MIN 250H(T)', 'escolaridade'] = \"ENSINO_MEDIO/TECNICO\"\n",
        "base.loc[base['escolaridade'] == 'CURSO QUAL PROF MIN 360H(T)', 'escolaridade'] = \"ENSINO_MEDIO/TECNICO\"\n",
        "base.loc[base['escolaridade'] == 'DOUTORADO(T)', 'escolaridade'] = \"DOUTORADO\"\n",
        "base.loc[base['escolaridade'] == 'ENSINO FUNDAMENTAL(T)', 'escolaridade'] = \"ENSINO_FUNDAMENTAL\"\n",
        "base.loc[base['escolaridade'] == 'ESPECIALIZACAO (RMI) (T)', 'escolaridade'] = \"retirar\" # não da pra saber o que é isso\n",
        "base.loc[base['escolaridade'] == 'ESPECIALIZACAO NIV MED(T)', 'escolaridade'] = \"ENSINO_MEDIO/TECNICO\"\n",
        "base.loc[base['escolaridade'] == 'ESPECIALIZACAO NIV SUP(T)', 'escolaridade'] = \"POS_GRADUACAO\"\n",
        "base.loc[base['escolaridade'] == 'GRAD O+RSC-I(LEI12772/12(T)', 'escolaridade'] = \"ENSINO_SUPERIOR\"\n",
        "base.loc[base['escolaridade'] == 'GRADUACAO NIV SUP COMPLE(T)', 'escolaridade'] = \"ENSINO_SUPERIOR\"\n",
        "base.loc[base['escolaridade'] == 'LICENCIATURA PLENA(T)', 'escolaridade'] = \"LICENCIATURA\"\n",
        "base.loc[base['escolaridade'] == 'LICENCIATURA(T)', 'escolaridade'] = \"LICENCIATURA\"\n",
        "base.loc[base['escolaridade'] == 'MESTRADO(T)', 'escolaridade'] = \"MESTRADO\"\n",
        "base.loc[base['escolaridade'] == 'MESTRE+RSC-III LEI 12772/12', 'escolaridade'] = \"MESTRADO\"\n",
        "base.loc[base['escolaridade'] == 'NIVEL MEDIO(T)', 'escolaridade'] = \"ENSINO_MEDIO/TECNICO\"\n",
        "base.loc[base['escolaridade'] == 'POS-DOUTORADO(T)', 'escolaridade'] = \"POS_DOUTORADO\"\n",
        "base.loc[base['escolaridade'] == 'POS-GRAD O+RSC-II L12772/12', 'escolaridade'] = \"POS_GRADUACAO\"\n",
        "base.loc[base['escolaridade'] == 'POS-GRADUACAO(T)', 'escolaridade'] = \"POS_GRADUACAO\"\n",
        "base.loc[base['escolaridade'] == 'S/INFO', 'escolaridade'] = \"retirar\"\n",
        "base.loc[base['escolaridade'] == 'SUP COMPL OU HAB LEGAL EQV', 'escolaridade'] = \"ENSINO_SUPERIOR\"\n",
        "base.loc[base['escolaridade'] == 'SUPERIOR INCOMPLETO', 'escolaridade'] = \"ENSINO_MEDIO/TECNICO\"\n",
        "base.loc[base['escolaridade'] == 'TECNICO NIV MED COMPLETO(T)', 'escolaridade'] = \"ENSINO_MEDIO/TECNICO\"\n",
        "\n",
        "# Retira os que foram marcados como 'retirar'\n",
        "base = base[base.escolaridade != 'retirar']\n",
        "\n",
        "escolaridadeAgrupada = base.groupby(['escolaridade']).size()\n",
        "escolaridadeAgrupada.plot.bar()\n",
        "plt.show()"
      ],
      "execution_count": null,
      "outputs": [
        {
          "output_type": "display_data",
          "data": {
            "image/png": "[encoded data removed]",
            "text/plain": [
              "<Figure size 432x288 with 1 Axes>"
            ]
          },
          "metadata": {
            "tags": [],
            "needs_background": "light"
          }
        }
      ]
    },
    {
      "cell_type": "markdown",
      "metadata": {
        "id": "m0OMGPXFnygM"
      },
      "source": [
        "# Transformação da base\n",
        "Retirar a coluna \"quantidade_forca_trabalho\" e multiplicar a quantidade dessa linha pelo seu valor\n",
        "---\n",
        "Cada linha agora representará uma pessoa e não um grupo"
      ]
    },
    {
      "cell_type": "code",
      "metadata": {
        "id": "qpBmiiFyyp1I"
      },
      "source": [
        "base.reset_index(drop=True, inplace=True)\r\n",
        "\r\n",
        "# resetar indexes pra corrigir os gaps das linhas que foram removidas\r\n",
        "features = list(base.columns)\r\n",
        "\r\n",
        "rem = [\r\n",
        "    'orgao_superior_codigo_siorg',\r\n",
        "    'orgao_superior_nome',\r\n",
        "    'orgao_codigo_siorg',\r\n",
        "    'orgao_nome',\r\n",
        "    'orgao_como_no_raiox_nome',\r\n",
        "    'orgao_como_no_raiox_sigla',\r\n",
        "    'ano_mes_referencia',\r\n",
        "    'situacao_vinculo_servidor',\r\n",
        "    'regime_juridico',\r\n",
        "    'possui_vinculo',\r\n",
        "    'orgao_superior_sigla',\r\n",
        "    'orgao_sigla'\r\n",
        "]\r\n",
        "base = base.drop(rem, 1)"
      ],
      "execution_count": null,
      "outputs": []
    },
    {
      "cell_type": "markdown",
      "metadata": {
        "id": "UZkB5yC52ro_"
      },
      "source": [
        "### Cria novo dataframe"
      ]
    },
    {
      "cell_type": "code",
      "metadata": {
        "id": "pCmXDy-rvxTk"
      },
      "source": [
        "from IPython.display import HTML, display\n",
        "import time\n",
        "\n",
        "def progress(value, max=100):\n",
        "    return HTML(\"\"\"\n",
        "        <progress\n",
        "            value='{value}'\n",
        "            max='{max}',\n",
        "            style='width: 100%'\n",
        "        >\n",
        "            {value}\n",
        "        </progress>\n",
        "    \"\"\".format(value=value, max=max))\n"
      ],
      "execution_count": null,
      "outputs": []
    },
    {
      "cell_type": "code",
      "metadata": {
        "colab": {
          "base_uri": "https://localhost:8080/",
          "height": 408
        },
        "id": "paE6-35knvLH",
        "outputId": "6e03b5c8-e69a-41f8-cadc-96147524c776"
      },
      "source": [
        "features = list(base.columns)\n",
        "features.remove('quantidade_forca_trabalho')\n",
        "\n",
        "print(features)\n",
        "from io import StringIO\n",
        "from csv import writer \n",
        "\n",
        "output = StringIO()\n",
        "csv_writer = writer(output)\n",
        "\n",
        "csv_writer.writerow(features)\n",
        "new_base = pd.DataFrame(columns=features)\n",
        "\n",
        "out = display(progress(0, 100), display_id=True)\n",
        "\n",
        "for index, row in base.iterrows():\n",
        "    for _ in range(row.quantidade_forca_trabalho):\n",
        "        csv_writer.writerow(base[features].iloc[index])\n",
        "\n",
        "    out.update(progress(index, len(base)))\n",
        "\n",
        "output.seek(0) # we need to get back to the start of the StringIO\n",
        "new_base = pd.read_csv(output)\n",
        "\n",
        "new_base.head(15)"
      ],
      "execution_count": null,
      "outputs": [
        {
          "output_type": "stream",
          "text": [
            "['sexo', 'faixa_etaria', 'escolaridade', 'remuneracao_media']\n"
          ],
          "name": "stdout"
        },
        {
          "output_type": "display_data",
          "data": {
            "text/html": [
              "\n",
              "        <progress\n",
              "            value='69'\n",
              "            max='31942',\n",
              "            style='width: 100%'\n",
              "        >\n",
              "            69\n",
              "        </progress>\n",
              "    "
            ],
            "text/plain": [
              "<IPython.core.display.HTML object>"
            ]
          },
          "metadata": {
            "tags": []
          }
        },
        {
          "output_type": "error",
          "ename": "KeyboardInterrupt",
          "evalue": "ignored",
          "traceback": [
            "\u001b[0;31m---------------------------------------------------------------------------\u001b[0m",
            "\u001b[0;31mKeyboardInterrupt\u001b[0m                         Traceback (most recent call last)",
            "\u001b[0;32m<ipython-input-23-c1ddb04cd6ec>\u001b[0m in \u001b[0;36m<module>\u001b[0;34m()\u001b[0m\n\u001b[1;32m     16\u001b[0m \u001b[0;32mfor\u001b[0m \u001b[0mindex\u001b[0m\u001b[0;34m,\u001b[0m \u001b[0mrow\u001b[0m \u001b[0;32min\u001b[0m \u001b[0mbase\u001b[0m\u001b[0;34m.\u001b[0m\u001b[0miterrows\u001b[0m\u001b[0;34m(\u001b[0m\u001b[0;34m)\u001b[0m\u001b[0;34m:\u001b[0m\u001b[0;34m\u001b[0m\u001b[0;34m\u001b[0m\u001b[0m\n\u001b[1;32m     17\u001b[0m     \u001b[0;32mfor\u001b[0m \u001b[0m_\u001b[0m \u001b[0;32min\u001b[0m \u001b[0mrange\u001b[0m\u001b[0;34m(\u001b[0m\u001b[0mrow\u001b[0m\u001b[0;34m.\u001b[0m\u001b[0mquantidade_forca_trabalho\u001b[0m\u001b[0;34m)\u001b[0m\u001b[0;34m:\u001b[0m\u001b[0;34m\u001b[0m\u001b[0;34m\u001b[0m\u001b[0m\n\u001b[0;32m---> 18\u001b[0;31m         \u001b[0mcsv_writer\u001b[0m\u001b[0;34m.\u001b[0m\u001b[0mwriterow\u001b[0m\u001b[0;34m(\u001b[0m\u001b[0mbase\u001b[0m\u001b[0;34m[\u001b[0m\u001b[0mfeatures\u001b[0m\u001b[0;34m]\u001b[0m\u001b[0;34m.\u001b[0m\u001b[0miloc\u001b[0m\u001b[0;34m[\u001b[0m\u001b[0mindex\u001b[0m\u001b[0;34m]\u001b[0m\u001b[0;34m)\u001b[0m\u001b[0;34m\u001b[0m\u001b[0;34m\u001b[0m\u001b[0m\n\u001b[0m\u001b[1;32m     19\u001b[0m \u001b[0;34m\u001b[0m\u001b[0m\n\u001b[1;32m     20\u001b[0m     \u001b[0mout\u001b[0m\u001b[0;34m.\u001b[0m\u001b[0mupdate\u001b[0m\u001b[0;34m(\u001b[0m\u001b[0mprogress\u001b[0m\u001b[0;34m(\u001b[0m\u001b[0mindex\u001b[0m\u001b[0;34m,\u001b[0m \u001b[0mlen\u001b[0m\u001b[0;34m(\u001b[0m\u001b[0mbase\u001b[0m\u001b[0;34m)\u001b[0m\u001b[0;34m)\u001b[0m\u001b[0;34m)\u001b[0m\u001b[0;34m\u001b[0m\u001b[0;34m\u001b[0m\u001b[0m\n",
            "\u001b[0;32m/usr/local/lib/python3.6/dist-packages/pandas/core/indexing.py\u001b[0m in \u001b[0;36m__getitem__\u001b[0;34m(self, key)\u001b[0m\n\u001b[1;32m    877\u001b[0m \u001b[0;34m\u001b[0m\u001b[0m\n\u001b[1;32m    878\u001b[0m             \u001b[0mmaybe_callable\u001b[0m \u001b[0;34m=\u001b[0m \u001b[0mcom\u001b[0m\u001b[0;34m.\u001b[0m\u001b[0mapply_if_callable\u001b[0m\u001b[0;34m(\u001b[0m\u001b[0mkey\u001b[0m\u001b[0;34m,\u001b[0m \u001b[0mself\u001b[0m\u001b[0;34m.\u001b[0m\u001b[0mobj\u001b[0m\u001b[0;34m)\u001b[0m\u001b[0;34m\u001b[0m\u001b[0;34m\u001b[0m\u001b[0m\n\u001b[0;32m--> 879\u001b[0;31m             \u001b[0;32mreturn\u001b[0m \u001b[0mself\u001b[0m\u001b[0;34m.\u001b[0m\u001b[0m_getitem_axis\u001b[0m\u001b[0;34m(\u001b[0m\u001b[0mmaybe_callable\u001b[0m\u001b[0;34m,\u001b[0m \u001b[0maxis\u001b[0m\u001b[0;34m=\u001b[0m\u001b[0maxis\u001b[0m\u001b[0;34m)\u001b[0m\u001b[0;34m\u001b[0m\u001b[0;34m\u001b[0m\u001b[0m\n\u001b[0m\u001b[1;32m    880\u001b[0m \u001b[0;34m\u001b[0m\u001b[0m\n\u001b[1;32m    881\u001b[0m     \u001b[0;32mdef\u001b[0m \u001b[0m_is_scalar_access\u001b[0m\u001b[0;34m(\u001b[0m\u001b[0mself\u001b[0m\u001b[0;34m,\u001b[0m \u001b[0mkey\u001b[0m\u001b[0;34m:\u001b[0m \u001b[0mTuple\u001b[0m\u001b[0;34m)\u001b[0m\u001b[0;34m:\u001b[0m\u001b[0;34m\u001b[0m\u001b[0;34m\u001b[0m\u001b[0m\n",
            "\u001b[0;32m/usr/local/lib/python3.6/dist-packages/pandas/core/indexing.py\u001b[0m in \u001b[0;36m_getitem_axis\u001b[0;34m(self, key, axis)\u001b[0m\n\u001b[1;32m   1496\u001b[0m             \u001b[0mself\u001b[0m\u001b[0;34m.\u001b[0m\u001b[0m_validate_integer\u001b[0m\u001b[0;34m(\u001b[0m\u001b[0mkey\u001b[0m\u001b[0;34m,\u001b[0m \u001b[0maxis\u001b[0m\u001b[0;34m)\u001b[0m\u001b[0;34m\u001b[0m\u001b[0;34m\u001b[0m\u001b[0m\n\u001b[1;32m   1497\u001b[0m \u001b[0;34m\u001b[0m\u001b[0m\n\u001b[0;32m-> 1498\u001b[0;31m             \u001b[0;32mreturn\u001b[0m \u001b[0mself\u001b[0m\u001b[0;34m.\u001b[0m\u001b[0mobj\u001b[0m\u001b[0;34m.\u001b[0m\u001b[0m_ixs\u001b[0m\u001b[0;34m(\u001b[0m\u001b[0mkey\u001b[0m\u001b[0;34m,\u001b[0m \u001b[0maxis\u001b[0m\u001b[0;34m=\u001b[0m\u001b[0maxis\u001b[0m\u001b[0;34m)\u001b[0m\u001b[0;34m\u001b[0m\u001b[0;34m\u001b[0m\u001b[0m\n\u001b[0m\u001b[1;32m   1499\u001b[0m \u001b[0;34m\u001b[0m\u001b[0m\n\u001b[1;32m   1500\u001b[0m     \u001b[0;32mdef\u001b[0m \u001b[0m_get_slice_axis\u001b[0m\u001b[0;34m(\u001b[0m\u001b[0mself\u001b[0m\u001b[0;34m,\u001b[0m \u001b[0mslice_obj\u001b[0m\u001b[0;34m:\u001b[0m \u001b[0mslice\u001b[0m\u001b[0;34m,\u001b[0m \u001b[0maxis\u001b[0m\u001b[0;34m:\u001b[0m \u001b[0mint\u001b[0m\u001b[0;34m)\u001b[0m\u001b[0;34m:\u001b[0m\u001b[0;34m\u001b[0m\u001b[0;34m\u001b[0m\u001b[0m\n",
            "\u001b[0;32m/usr/local/lib/python3.6/dist-packages/pandas/core/frame.py\u001b[0m in \u001b[0;36m_ixs\u001b[0;34m(self, i, axis)\u001b[0m\n\u001b[1;32m   2827\u001b[0m         \u001b[0;31m# irow\u001b[0m\u001b[0;34m\u001b[0m\u001b[0;34m\u001b[0m\u001b[0;34m\u001b[0m\u001b[0m\n\u001b[1;32m   2828\u001b[0m         \u001b[0;32mif\u001b[0m \u001b[0maxis\u001b[0m \u001b[0;34m==\u001b[0m \u001b[0;36m0\u001b[0m\u001b[0;34m:\u001b[0m\u001b[0;34m\u001b[0m\u001b[0;34m\u001b[0m\u001b[0m\n\u001b[0;32m-> 2829\u001b[0;31m             \u001b[0mnew_values\u001b[0m \u001b[0;34m=\u001b[0m \u001b[0mself\u001b[0m\u001b[0;34m.\u001b[0m\u001b[0m_mgr\u001b[0m\u001b[0;34m.\u001b[0m\u001b[0mfast_xs\u001b[0m\u001b[0;34m(\u001b[0m\u001b[0mi\u001b[0m\u001b[0;34m)\u001b[0m\u001b[0;34m\u001b[0m\u001b[0;34m\u001b[0m\u001b[0m\n\u001b[0m\u001b[1;32m   2830\u001b[0m \u001b[0;34m\u001b[0m\u001b[0m\n\u001b[1;32m   2831\u001b[0m             \u001b[0;31m# if we are a copy, mark as such\u001b[0m\u001b[0;34m\u001b[0m\u001b[0;34m\u001b[0m\u001b[0;34m\u001b[0m\u001b[0m\n",
            "\u001b[0;32m/usr/local/lib/python3.6/dist-packages/pandas/core/internals/managers.py\u001b[0m in \u001b[0;36mfast_xs\u001b[0;34m(self, loc)\u001b[0m\n\u001b[1;32m    948\u001b[0m             \u001b[0;32mreturn\u001b[0m \u001b[0mself\u001b[0m\u001b[0;34m.\u001b[0m\u001b[0mblocks\u001b[0m\u001b[0;34m[\u001b[0m\u001b[0;36m0\u001b[0m\u001b[0;34m]\u001b[0m\u001b[0;34m.\u001b[0m\u001b[0miget\u001b[0m\u001b[0;34m(\u001b[0m\u001b[0;34m(\u001b[0m\u001b[0mslice\u001b[0m\u001b[0;34m(\u001b[0m\u001b[0;32mNone\u001b[0m\u001b[0;34m)\u001b[0m\u001b[0;34m,\u001b[0m \u001b[0mloc\u001b[0m\u001b[0;34m)\u001b[0m\u001b[0;34m)\u001b[0m\u001b[0;34m\u001b[0m\u001b[0;34m\u001b[0m\u001b[0m\n\u001b[1;32m    949\u001b[0m \u001b[0;34m\u001b[0m\u001b[0m\n\u001b[0;32m--> 950\u001b[0;31m         \u001b[0mdtype\u001b[0m \u001b[0;34m=\u001b[0m \u001b[0m_interleaved_dtype\u001b[0m\u001b[0;34m(\u001b[0m\u001b[0mself\u001b[0m\u001b[0;34m.\u001b[0m\u001b[0mblocks\u001b[0m\u001b[0;34m)\u001b[0m\u001b[0;34m\u001b[0m\u001b[0;34m\u001b[0m\u001b[0m\n\u001b[0m\u001b[1;32m    951\u001b[0m \u001b[0;34m\u001b[0m\u001b[0m\n\u001b[1;32m    952\u001b[0m         \u001b[0mn\u001b[0m \u001b[0;34m=\u001b[0m \u001b[0mlen\u001b[0m\u001b[0;34m(\u001b[0m\u001b[0mself\u001b[0m\u001b[0;34m)\u001b[0m\u001b[0;34m\u001b[0m\u001b[0;34m\u001b[0m\u001b[0m\n",
            "\u001b[0;32m/usr/local/lib/python3.6/dist-packages/pandas/core/internals/managers.py\u001b[0m in \u001b[0;36m_interleaved_dtype\u001b[0;34m(blocks)\u001b[0m\n\u001b[1;32m   1893\u001b[0m         \u001b[0;32mreturn\u001b[0m \u001b[0;32mNone\u001b[0m\u001b[0;34m\u001b[0m\u001b[0;34m\u001b[0m\u001b[0m\n\u001b[1;32m   1894\u001b[0m \u001b[0;34m\u001b[0m\u001b[0m\n\u001b[0;32m-> 1895\u001b[0;31m     \u001b[0;32mreturn\u001b[0m \u001b[0mfind_common_type\u001b[0m\u001b[0;34m(\u001b[0m\u001b[0;34m[\u001b[0m\u001b[0mb\u001b[0m\u001b[0;34m.\u001b[0m\u001b[0mdtype\u001b[0m \u001b[0;32mfor\u001b[0m \u001b[0mb\u001b[0m \u001b[0;32min\u001b[0m \u001b[0mblocks\u001b[0m\u001b[0;34m]\u001b[0m\u001b[0;34m)\u001b[0m\u001b[0;34m\u001b[0m\u001b[0;34m\u001b[0m\u001b[0m\n\u001b[0m\u001b[1;32m   1896\u001b[0m \u001b[0;34m\u001b[0m\u001b[0m\n\u001b[1;32m   1897\u001b[0m \u001b[0;34m\u001b[0m\u001b[0m\n",
            "\u001b[0;32m/usr/local/lib/python3.6/dist-packages/pandas/core/dtypes/cast.py\u001b[0m in \u001b[0;36mfind_common_type\u001b[0;34m(types)\u001b[0m\n\u001b[1;32m   1470\u001b[0m     \u001b[0;31m# workaround for find_common_type([np.dtype('datetime64[ns]')] * 2)\u001b[0m\u001b[0;34m\u001b[0m\u001b[0;34m\u001b[0m\u001b[0;34m\u001b[0m\u001b[0m\n\u001b[1;32m   1471\u001b[0m     \u001b[0;31m# => object\u001b[0m\u001b[0;34m\u001b[0m\u001b[0;34m\u001b[0m\u001b[0;34m\u001b[0m\u001b[0m\n\u001b[0;32m-> 1472\u001b[0;31m     \u001b[0;32mif\u001b[0m \u001b[0mall\u001b[0m\u001b[0;34m(\u001b[0m\u001b[0mis_dtype_equal\u001b[0m\u001b[0;34m(\u001b[0m\u001b[0mfirst\u001b[0m\u001b[0;34m,\u001b[0m \u001b[0mt\u001b[0m\u001b[0;34m)\u001b[0m \u001b[0;32mfor\u001b[0m \u001b[0mt\u001b[0m \u001b[0;32min\u001b[0m \u001b[0mtypes\u001b[0m\u001b[0;34m[\u001b[0m\u001b[0;36m1\u001b[0m\u001b[0;34m:\u001b[0m\u001b[0;34m]\u001b[0m\u001b[0;34m)\u001b[0m\u001b[0;34m:\u001b[0m\u001b[0;34m\u001b[0m\u001b[0;34m\u001b[0m\u001b[0m\n\u001b[0m\u001b[1;32m   1473\u001b[0m         \u001b[0;32mreturn\u001b[0m \u001b[0mfirst\u001b[0m\u001b[0;34m\u001b[0m\u001b[0;34m\u001b[0m\u001b[0m\n\u001b[1;32m   1474\u001b[0m \u001b[0;34m\u001b[0m\u001b[0m\n",
            "\u001b[0;31mKeyboardInterrupt\u001b[0m: "
          ]
        }
      ]
    },
    {
      "cell_type": "code",
      "metadata": {
        "id": "irfKeqUboxP5"
      },
      "source": [
        "# Salva arquivo no drive\n",
        "from google.colab import drive\n",
        "drive.mount('/content/drive')\n",
        "\n",
        "path = 'UFAL/Ciencia de dados/Projeto/'\n",
        "name = 'new_base.csv'\n",
        "new_base.to_csv('/content/drive/My Drive/' + path + name)"
      ],
      "execution_count": null,
      "outputs": []
    },
    {
      "cell_type": "markdown",
      "metadata": {
        "id": "EE50TjsUZ-0Z"
      },
      "source": [
        "## Carrega base transformada"
      ]
    },
    {
      "cell_type": "code",
      "metadata": {
        "id": "xr-fMIY0tvB4",
        "colab": {
          "base_uri": "https://localhost:8080/",
          "height": 204
        },
        "outputId": "53241079-33c2-47b9-a76a-290290c18c9e"
      },
      "source": [
        "new_base = pd.read_csv('https://raw.githubusercontent.com/audreyemmely/ciencia-de-dados/main/projeto/dados/base.csv')\n",
        "new_base = new_base.drop('Unnamed: 0', 1)\n",
        "new_base.head()"
      ],
      "execution_count": null,
      "outputs": [
        {
          "output_type": "execute_result",
          "data": {
            "text/html": [
              "<div>\n",
              "<style scoped>\n",
              "    .dataframe tbody tr th:only-of-type {\n",
              "        vertical-align: middle;\n",
              "    }\n",
              "\n",
              "    .dataframe tbody tr th {\n",
              "        vertical-align: top;\n",
              "    }\n",
              "\n",
              "    .dataframe thead th {\n",
              "        text-align: right;\n",
              "    }\n",
              "</style>\n",
              "<table border=\"1\" class=\"dataframe\">\n",
              "  <thead>\n",
              "    <tr style=\"text-align: right;\">\n",
              "      <th></th>\n",
              "      <th>sexo</th>\n",
              "      <th>faixa_etaria</th>\n",
              "      <th>escolaridade</th>\n",
              "      <th>remuneracao_media</th>\n",
              "    </tr>\n",
              "  </thead>\n",
              "  <tbody>\n",
              "    <tr>\n",
              "      <th>0</th>\n",
              "      <td>F</td>\n",
              "      <td>20 A 24 ANOS</td>\n",
              "      <td>ENSINO_MEDIO/TECNICO</td>\n",
              "      <td>8789.350</td>\n",
              "    </tr>\n",
              "    <tr>\n",
              "      <th>1</th>\n",
              "      <td>F</td>\n",
              "      <td>20 A 24 ANOS</td>\n",
              "      <td>ENSINO_MEDIO/TECNICO</td>\n",
              "      <td>2701.460</td>\n",
              "    </tr>\n",
              "    <tr>\n",
              "      <th>2</th>\n",
              "      <td>F</td>\n",
              "      <td>20 A 24 ANOS</td>\n",
              "      <td>ENSINO_SUPERIOR</td>\n",
              "      <td>8052.690</td>\n",
              "    </tr>\n",
              "    <tr>\n",
              "      <th>3</th>\n",
              "      <td>F</td>\n",
              "      <td>20 A 24 ANOS</td>\n",
              "      <td>ENSINO_SUPERIOR</td>\n",
              "      <td>3145.034</td>\n",
              "    </tr>\n",
              "    <tr>\n",
              "      <th>4</th>\n",
              "      <td>F</td>\n",
              "      <td>20 A 24 ANOS</td>\n",
              "      <td>ENSINO_SUPERIOR</td>\n",
              "      <td>3145.034</td>\n",
              "    </tr>\n",
              "  </tbody>\n",
              "</table>\n",
              "</div>"
            ],
            "text/plain": [
              "  sexo  faixa_etaria          escolaridade  remuneracao_media\n",
              "0    F  20 A 24 ANOS  ENSINO_MEDIO/TECNICO           8789.350\n",
              "1    F  20 A 24 ANOS  ENSINO_MEDIO/TECNICO           2701.460\n",
              "2    F  20 A 24 ANOS       ENSINO_SUPERIOR           8052.690\n",
              "3    F  20 A 24 ANOS       ENSINO_SUPERIOR           3145.034\n",
              "4    F  20 A 24 ANOS       ENSINO_SUPERIOR           3145.034"
            ]
          },
          "metadata": {
            "tags": []
          },
          "execution_count": 24
        }
      ]
    },
    {
      "cell_type": "code",
      "metadata": {
        "id": "8ZJHdM7gt4_2",
        "colab": {
          "base_uri": "https://localhost:8080/"
        },
        "outputId": "0ec65afc-8e5c-481d-b533-5b9603602496"
      },
      "source": [
        "idadeAgrupada = new_base.groupby(['faixa_etaria']).size()\r\n",
        "idadeAgrupada"
      ],
      "execution_count": null,
      "outputs": [
        {
          "output_type": "execute_result",
          "data": {
            "text/plain": [
              "faixa_etaria\n",
              "15 A 19 ANOS          11\n",
              "20 A 24 ANOS        3085\n",
              "25 A 29 ANOS       20778\n",
              "30 A 34 ANOS       59898\n",
              "35 A 39 ANOS       87873\n",
              "40 A 44 ANOS       75967\n",
              "45 A 49 ANOS       59832\n",
              "50 A 54 ANOS       53621\n",
              "55 A 59 ANOS       57196\n",
              "60 A 64 ANOS       37317\n",
              "65 A 69 ANOS       20432\n",
              "70 ANOS OU MAIS     7416\n",
              "dtype: int64"
            ]
          },
          "metadata": {
            "tags": []
          },
          "execution_count": 25
        }
      ]
    },
    {
      "cell_type": "code",
      "metadata": {
        "id": "AmZBtobEuBMP",
        "colab": {
          "base_uri": "https://localhost:8080/",
          "height": 360
        },
        "outputId": "3cce9c51-392c-49ba-e223-93c6c65fc657"
      },
      "source": [
        "idadeAgrupada.plot.bar()\r\n",
        "plt.show()"
      ],
      "execution_count": null,
      "outputs": [
        {
          "output_type": "display_data",
          "data": {
            "image/png": "[encoded data removed]",
            "text/plain": [
              "<Figure size 432x288 with 1 Axes>"
            ]
          },
          "metadata": {
            "tags": [],
            "needs_background": "light"
          }
        }
      ]
    },
    {
      "cell_type": "code",
      "metadata": {
        "id": "I6FIWRWhuG4z",
        "colab": {
          "base_uri": "https://localhost:8080/"
        },
        "outputId": "c918bdbe-7fd0-4f9a-bf34-594c5a727a01"
      },
      "source": [
        "generoAgrupado = new_base.groupby(['sexo']).size()\r\n",
        "generoAgrupado"
      ],
      "execution_count": null,
      "outputs": [
        {
          "output_type": "execute_result",
          "data": {
            "text/plain": [
              "sexo\n",
              "F    215521\n",
              "M    267905\n",
              "dtype: int64"
            ]
          },
          "metadata": {
            "tags": []
          },
          "execution_count": 27
        }
      ]
    },
    {
      "cell_type": "code",
      "metadata": {
        "id": "QpT5UlvkuRgl",
        "colab": {
          "base_uri": "https://localhost:8080/"
        },
        "outputId": "ff0a2295-483a-4580-88ec-47162a63fe81"
      },
      "source": [
        "new_base['remuneracao_media'].describe()"
      ],
      "execution_count": null,
      "outputs": [
        {
          "output_type": "execute_result",
          "data": {
            "text/plain": [
              "count    483426.000000\n",
              "mean      10488.791160\n",
              "std        5842.178259\n",
              "min         201.592500\n",
              "25%        5709.980000\n",
              "50%        9276.410000\n",
              "75%       14786.717500\n",
              "max       37316.830000\n",
              "Name: remuneracao_media, dtype: float64"
            ]
          },
          "metadata": {
            "tags": []
          },
          "execution_count": 28
        }
      ]
    },
    {
      "cell_type": "code",
      "metadata": {
        "id": "BCP3MuWouZUL",
        "colab": {
          "base_uri": "https://localhost:8080/"
        },
        "outputId": "54668f76-ab52-4d2b-f5ac-2dfd06a677e9"
      },
      "source": [
        "new_base.groupby(['escolaridade']).size()"
      ],
      "execution_count": null,
      "outputs": [
        {
          "output_type": "execute_result",
          "data": {
            "text/plain": [
              "escolaridade\n",
              "ALFABETIZADO              4424\n",
              "ANALFABETO                   4\n",
              "DOUTORADO               100815\n",
              "ENSINO_FUNDAMENTAL        5970\n",
              "ENSINO_MEDIO/TECNICO     78245\n",
              "ENSINO_SUPERIOR         163684\n",
              "LICENCIATURA                80\n",
              "MESTRADO                 69223\n",
              "POS_DOUTORADO                9\n",
              "POS_GRADUACAO            60972\n",
              "dtype: int64"
            ]
          },
          "metadata": {
            "tags": []
          },
          "execution_count": 29
        }
      ]
    },
    {
      "cell_type": "markdown",
      "metadata": {
        "id": "ICPgGcAY8WB-"
      },
      "source": [
        "# Proposta\r\n",
        "---\r\n",
        "Fazer um modelo de regressão linear para estimar o salário e comparar os resultados alterando sexo / escolaridade / etc\r\n",
        "---"
      ]
    },
    {
      "cell_type": "code",
      "metadata": {
        "id": "lqhRCaj9lG1d",
        "colab": {
          "base_uri": "https://localhost:8080/",
          "height": 400
        },
        "outputId": "96830299-8450-41f0-80a3-89b802088e7b"
      },
      "source": [
        "sample = new_base.sample(n=400000)\r\n",
        "sample['escolaridade'].replace(to_replace=[\r\n",
        "                                      'ANALFABETO', \r\n",
        "                                      'ALFABETIZADO', \r\n",
        "                                      'ENSINO_FUNDAMENTAL', \r\n",
        "                                      'ENSINO_MEDIO/TECNICO', \r\n",
        "                                      'LICENCIATURA', \r\n",
        "                                      'ENSINO_SUPERIOR', \r\n",
        "                                      'POS_GRADUACAO', \r\n",
        "                                      'MESTRADO', \r\n",
        "                                      'DOUTORADO',\r\n",
        "                                      'POS_DOUTORADO'\r\n",
        "                                    ], value=[1, 2, 3, 4, 5, 6, 7, 8, 9, 10], inplace=True)\r\n",
        "\r\n",
        "sample.head(100)\r\n",
        "sns.lmplot(x='escolaridade', y='remuneracao_media', hue='sexo', data=sample)\r\n"
      ],
      "execution_count": null,
      "outputs": [
        {
          "output_type": "execute_result",
          "data": {
            "text/plain": [
              "<seaborn.axisgrid.FacetGrid at 0x7f12f1c8e780>"
            ]
          },
          "metadata": {
            "tags": []
          },
          "execution_count": 30
        },
        {
          "output_type": "display_data",
          "data": {
            "image/png": "[encoded data removed]",
            "text/plain": [
              "<Figure size 404.625x360 with 1 Axes>"
            ]
          },
          "metadata": {
            "tags": [],
            "needs_background": "light"
          }
        }
      ]
    },
    {
      "cell_type": "markdown",
      "metadata": {
        "id": "KkTNabdGcJ3b"
      },
      "source": [
        "## Treino"
      ]
    },
    {
      "cell_type": "code",
      "metadata": {
        "id": "7rVnHbcccIss",
        "colab": {
          "base_uri": "https://localhost:8080/"
        },
        "outputId": "9ecf31bd-7f6f-4dda-f121-a0c897d4c11f"
      },
      "source": [
        "from sklearn.linear_model import LinearRegression\r\n",
        "from sklearn.model_selection import train_test_split\r\n",
        "from sklearn.preprocessing import OneHotEncoder\r\n",
        "\r\n",
        "# Seleciona os dados\r\n",
        "X = new_base[['sexo', 'faixa_etaria', 'escolaridade']]\r\n",
        "y = new_base [['remuneracao_media']]\r\n",
        "\r\n",
        "# Transforma os dados categoricos em OneHotEncode\r\n",
        "encoder = OneHotEncoder()\r\n",
        "encoder.fit(X)\r\n",
        "X = encoder.transform(X).toarray()\r\n",
        "\r\n",
        "# Divide entre treino e teste\r\n",
        "X_train, X_test, y_train, y_test = train_test_split(X, y, test_size=0.1, random_state=101)\r\n",
        "\r\n",
        "# Treina o modelo\r\n",
        "model = LinearRegression()\r\n",
        "model.fit(X_train, y_train)"
      ],
      "execution_count": null,
      "outputs": [
        {
          "output_type": "execute_result",
          "data": {
            "text/plain": [
              "LinearRegression(copy_X=True, fit_intercept=True, n_jobs=None, normalize=False)"
            ]
          },
          "metadata": {
            "tags": []
          },
          "execution_count": 31
        }
      ]
    },
    {
      "cell_type": "code",
      "metadata": {
        "id": "BZdPqmAKcDey",
        "colab": {
          "base_uri": "https://localhost:8080/",
          "height": 351
        },
        "outputId": "804bf1c1-016f-4b40-e3df-0ce00916befb"
      },
      "source": [
        "# Testa o modelo\r\n",
        "predictions = model.predict(X_test)\r\n",
        "\r\n",
        "sns.regplot(y_test[:150], predictions[:150])"
      ],
      "execution_count": null,
      "outputs": [
        {
          "output_type": "stream",
          "text": [
            "/usr/local/lib/python3.6/dist-packages/seaborn/_decorators.py:43: FutureWarning: Pass the following variables as keyword args: x, y. From version 0.12, the only valid positional argument will be `data`, and passing other arguments without an explicit keyword will result in an error or misinterpretation.\n",
            "  FutureWarning\n"
          ],
          "name": "stderr"
        },
        {
          "output_type": "execute_result",
          "data": {
            "text/plain": [
              "<matplotlib.axes._subplots.AxesSubplot at 0x7f12f127f5f8>"
            ]
          },
          "metadata": {
            "tags": []
          },
          "execution_count": 32
        },
        {
          "output_type": "display_data",
          "data": {
            "image/png": "[encoded data removed]",
            "text/plain": [
              "<Figure size 432x288 with 1 Axes>"
            ]
          },
          "metadata": {
            "tags": [],
            "needs_background": "light"
          }
        }
      ]
    },
    {
      "cell_type": "markdown",
      "metadata": {
        "id": "51E9rM4PiyJz"
      },
      "source": [
        "## Análise"
      ]
    },
    {
      "cell_type": "code",
      "metadata": {
        "id": "xBFW3Cfwhwmr",
        "colab": {
          "base_uri": "https://localhost:8080/"
        },
        "outputId": "2d59189e-04fb-45a0-e129-ed7bedacd2f8"
      },
      "source": [
        "examples = [\r\n",
        "  ['M', '25 A 29 ANOS',\t'ENSINO_MEDIO/TECNICO'],\r\n",
        "  ['F', '25 A 29 ANOS',\t'ENSINO_MEDIO/TECNICO'],\r\n",
        "  ['M', '50 A 54 ANOS',\t'ENSINO_MEDIO/TECNICO'],\r\n",
        "  ['F', '50 A 54 ANOS',\t'ENSINO_MEDIO/TECNICO'],\r\n",
        "  ['M', '25 A 29 ANOS',\t'ENSINO_SUPERIOR'],\r\n",
        "  ['F', '25 A 29 ANOS',\t'ENSINO_SUPERIOR'],\r\n",
        "  ['M', '50 A 54 ANOS',\t'ENSINO_SUPERIOR'],\r\n",
        "  ['F', '50 A 54 ANOS',\t'ENSINO_SUPERIOR'],\r\n",
        "  ['M', '25 A 29 ANOS',\t'DOUTORADO'],\r\n",
        "  ['F', '25 A 29 ANOS',\t'DOUTORADO'],\r\n",
        "  ['M', '50 A 54 ANOS',\t'DOUTORADO'],\r\n",
        "  ['F', '50 A 54 ANOS',\t'DOUTORADO'],\r\n",
        "  ['M', '25 A 29 ANOS',\t'POS_DOUTORADO'],\r\n",
        "  ['F', '25 A 29 ANOS',\t'POS_DOUTORADO'],\r\n",
        "  ['M', '50 A 54 ANOS',\t'POS_DOUTORADO'],\r\n",
        "  ['F', '50 A 54 ANOS',\t'POS_DOUTORADO'],\r\n",
        "]\r\n",
        "# Transforma em OneHotEncode\r\n",
        "converted_examples = encoder.transform(examples).toarray()\r\n",
        "\r\n",
        "# Roda a regressão\r\n",
        "results = model.predict(converted_examples)\r\n",
        "\r\n",
        "for i, ex in enumerate(examples):\r\n",
        "    print(f\"Sexo: {ex[0]:3} | Idade: {ex[1]:15} | Escolaridade: {ex[2]:20} | Salario estimado: R$ {results[i][0]}\")\r\n",
        "    ex.append(results[i][0])"
      ],
      "execution_count": null,
      "outputs": [
        {
          "output_type": "stream",
          "text": [
            "Sexo: M   | Idade: 25 A 29 ANOS    | Escolaridade: ENSINO_MEDIO/TECNICO | Salario estimado: R$ 1784.0\n",
            "Sexo: F   | Idade: 25 A 29 ANOS    | Escolaridade: ENSINO_MEDIO/TECNICO | Salario estimado: R$ 412.0\n",
            "Sexo: M   | Idade: 50 A 54 ANOS    | Escolaridade: ENSINO_MEDIO/TECNICO | Salario estimado: R$ 7840.0\n",
            "Sexo: F   | Idade: 50 A 54 ANOS    | Escolaridade: ENSINO_MEDIO/TECNICO | Salario estimado: R$ 6468.0\n",
            "Sexo: M   | Idade: 25 A 29 ANOS    | Escolaridade: ENSINO_SUPERIOR      | Salario estimado: R$ 7566.0\n",
            "Sexo: F   | Idade: 25 A 29 ANOS    | Escolaridade: ENSINO_SUPERIOR      | Salario estimado: R$ 6194.0\n",
            "Sexo: M   | Idade: 50 A 54 ANOS    | Escolaridade: ENSINO_SUPERIOR      | Salario estimado: R$ 13622.0\n",
            "Sexo: F   | Idade: 50 A 54 ANOS    | Escolaridade: ENSINO_SUPERIOR      | Salario estimado: R$ 12250.0\n",
            "Sexo: M   | Idade: 25 A 29 ANOS    | Escolaridade: DOUTORADO            | Salario estimado: R$ 10878.0\n",
            "Sexo: F   | Idade: 25 A 29 ANOS    | Escolaridade: DOUTORADO            | Salario estimado: R$ 9506.0\n",
            "Sexo: M   | Idade: 50 A 54 ANOS    | Escolaridade: DOUTORADO            | Salario estimado: R$ 16934.0\n",
            "Sexo: F   | Idade: 50 A 54 ANOS    | Escolaridade: DOUTORADO            | Salario estimado: R$ 15562.0\n",
            "Sexo: M   | Idade: 25 A 29 ANOS    | Escolaridade: POS_DOUTORADO        | Salario estimado: R$ 11574.0\n",
            "Sexo: F   | Idade: 25 A 29 ANOS    | Escolaridade: POS_DOUTORADO        | Salario estimado: R$ 10202.0\n",
            "Sexo: M   | Idade: 50 A 54 ANOS    | Escolaridade: POS_DOUTORADO        | Salario estimado: R$ 17630.0\n",
            "Sexo: F   | Idade: 50 A 54 ANOS    | Escolaridade: POS_DOUTORADO        | Salario estimado: R$ 16258.0\n"
          ],
          "name": "stdout"
        }
      ]
    }
  ]
}