{
  "nbformat": 4,
  "nbformat_minor": 0,
  "metadata": {
    "colab": {
      "name": "projetoFinal.ipynb",
      "provenance": []
    },
    "kernelspec": {
      "name": "python3",
      "display_name": "Python 3"
    }
  },
  "cells": [
    {
      "cell_type": "code",
      "metadata": {
        "id": "nkwEjrL8YZp3"
      },
      "source": [
        "import pandas as pd"
      ],
      "execution_count": 1,
      "outputs": []
    },
    {
      "cell_type": "code",
      "metadata": {
        "id": "5ivUF4kWYd4v"
      },
      "source": [
        "base = pd.read_csv('https://raw.githubusercontent.com/audreyemmely/ciencia-de-dados/main/projeto/dados/pessoal-forca-trabalho.csv')"
      ],
      "execution_count": 2,
      "outputs": []
    },
    {
      "cell_type": "code",
      "metadata": {
        "colab": {
          "base_uri": "https://localhost:8080/",
          "height": 566
        },
        "id": "gdXO82hxYnoV",
        "outputId": "be4b0932-7704-4d15-93f6-b914eecac5c1"
      },
      "source": [
        "base.head()"
      ],
      "execution_count": 3,
      "outputs": [
        {
          "output_type": "execute_result",
          "data": {
            "text/html": [
              "<div>\n",
              "<style scoped>\n",
              "    .dataframe tbody tr th:only-of-type {\n",
              "        vertical-align: middle;\n",
              "    }\n",
              "\n",
              "    .dataframe tbody tr th {\n",
              "        vertical-align: top;\n",
              "    }\n",
              "\n",
              "    .dataframe thead th {\n",
              "        text-align: right;\n",
              "    }\n",
              "</style>\n",
              "<table border=\"1\" class=\"dataframe\">\n",
              "  <thead>\n",
              "    <tr style=\"text-align: right;\">\n",
              "      <th></th>\n",
              "      <th>orgao_superior_codigo_siorg</th>\n",
              "      <th>orgao_superior_nome</th>\n",
              "      <th>orgao_superior_sigla</th>\n",
              "      <th>orgao_codigo_siorg</th>\n",
              "      <th>orgao_nome</th>\n",
              "      <th>orgao_sigla</th>\n",
              "      <th>orgao_como_no_raiox_nome</th>\n",
              "      <th>orgao_como_no_raiox_sigla</th>\n",
              "      <th>ano_mes_referencia</th>\n",
              "      <th>sexo</th>\n",
              "      <th>faixa_etaria</th>\n",
              "      <th>escolaridade</th>\n",
              "      <th>regime_juridico</th>\n",
              "      <th>situacao_vinculo_servidor</th>\n",
              "      <th>possui_vinculo</th>\n",
              "      <th>quantidade_forca_trabalho</th>\n",
              "      <th>remuneracao_media</th>\n",
              "    </tr>\n",
              "  </thead>\n",
              "  <tbody>\n",
              "    <tr>\n",
              "      <th>0</th>\n",
              "      <td>14</td>\n",
              "      <td>MINISTÉRIO DA AGRICULTURA, PECUÁRIA E ABASTECI...</td>\n",
              "      <td>MAPA</td>\n",
              "      <td>14</td>\n",
              "      <td>MINISTÉRIO DA AGRICULTURA, PECUÁRIA E ABASTECI...</td>\n",
              "      <td>MAPA</td>\n",
              "      <td>MINISTÉRIO DA AGRICULTURA, PECUÁRIA E ABASTECI...</td>\n",
              "      <td>MAPA</td>\n",
              "      <td>202008</td>\n",
              "      <td>F</td>\n",
              "      <td>20 A 24 ANOS</td>\n",
              "      <td>2O GR COMPL OU TEC PROFISS</td>\n",
              "      <td>EST</td>\n",
              "      <td>ATIVO PERMANENTE</td>\n",
              "      <td>COM VÍNCULO</td>\n",
              "      <td>1</td>\n",
              "      <td>8789.350</td>\n",
              "    </tr>\n",
              "    <tr>\n",
              "      <th>1</th>\n",
              "      <td>14</td>\n",
              "      <td>MINISTÉRIO DA AGRICULTURA, PECUÁRIA E ABASTECI...</td>\n",
              "      <td>MAPA</td>\n",
              "      <td>14</td>\n",
              "      <td>MINISTÉRIO DA AGRICULTURA, PECUÁRIA E ABASTECI...</td>\n",
              "      <td>MAPA</td>\n",
              "      <td>MINISTÉRIO DA AGRICULTURA, PECUÁRIA E ABASTECI...</td>\n",
              "      <td>MAPA</td>\n",
              "      <td>202008</td>\n",
              "      <td>F</td>\n",
              "      <td>20 A 24 ANOS</td>\n",
              "      <td>2O GR COMPL OU TEC PROFISS</td>\n",
              "      <td>EST</td>\n",
              "      <td>NOMEADO CARGO COMIS.</td>\n",
              "      <td>SEM VÍNCULO</td>\n",
              "      <td>1</td>\n",
              "      <td>2701.460</td>\n",
              "    </tr>\n",
              "    <tr>\n",
              "      <th>2</th>\n",
              "      <td>14</td>\n",
              "      <td>MINISTÉRIO DA AGRICULTURA, PECUÁRIA E ABASTECI...</td>\n",
              "      <td>MAPA</td>\n",
              "      <td>14</td>\n",
              "      <td>MINISTÉRIO DA AGRICULTURA, PECUÁRIA E ABASTECI...</td>\n",
              "      <td>MAPA</td>\n",
              "      <td>MINISTÉRIO DA AGRICULTURA, PECUÁRIA E ABASTECI...</td>\n",
              "      <td>MAPA</td>\n",
              "      <td>202008</td>\n",
              "      <td>F</td>\n",
              "      <td>20 A 24 ANOS</td>\n",
              "      <td>SUP COMPL OU HAB LEGAL EQV</td>\n",
              "      <td>CDT</td>\n",
              "      <td>CONTRATO TEMPORARIO</td>\n",
              "      <td>COM VÍNCULO</td>\n",
              "      <td>1</td>\n",
              "      <td>8052.690</td>\n",
              "    </tr>\n",
              "    <tr>\n",
              "      <th>3</th>\n",
              "      <td>14</td>\n",
              "      <td>MINISTÉRIO DA AGRICULTURA, PECUÁRIA E ABASTECI...</td>\n",
              "      <td>MAPA</td>\n",
              "      <td>14</td>\n",
              "      <td>MINISTÉRIO DA AGRICULTURA, PECUÁRIA E ABASTECI...</td>\n",
              "      <td>MAPA</td>\n",
              "      <td>MINISTÉRIO DA AGRICULTURA, PECUÁRIA E ABASTECI...</td>\n",
              "      <td>MAPA</td>\n",
              "      <td>202008</td>\n",
              "      <td>F</td>\n",
              "      <td>20 A 24 ANOS</td>\n",
              "      <td>SUP COMPL OU HAB LEGAL EQV</td>\n",
              "      <td>EST</td>\n",
              "      <td>NOMEADO CARGO COMIS.</td>\n",
              "      <td>SEM VÍNCULO</td>\n",
              "      <td>5</td>\n",
              "      <td>3145.034</td>\n",
              "    </tr>\n",
              "    <tr>\n",
              "      <th>4</th>\n",
              "      <td>14</td>\n",
              "      <td>MINISTÉRIO DA AGRICULTURA, PECUÁRIA E ABASTECI...</td>\n",
              "      <td>MAPA</td>\n",
              "      <td>14</td>\n",
              "      <td>MINISTÉRIO DA AGRICULTURA, PECUÁRIA E ABASTECI...</td>\n",
              "      <td>MAPA</td>\n",
              "      <td>MINISTÉRIO DA AGRICULTURA, PECUÁRIA E ABASTECI...</td>\n",
              "      <td>MAPA</td>\n",
              "      <td>202008</td>\n",
              "      <td>F</td>\n",
              "      <td>20 A 24 ANOS</td>\n",
              "      <td>SUPERIOR INCOMPLETO</td>\n",
              "      <td>EST</td>\n",
              "      <td>ATIVO PERMANENTE</td>\n",
              "      <td>COM VÍNCULO</td>\n",
              "      <td>1</td>\n",
              "      <td>7048.090</td>\n",
              "    </tr>\n",
              "  </tbody>\n",
              "</table>\n",
              "</div>"
            ],
            "text/plain": [
              "   orgao_superior_codigo_siorg  ... remuneracao_media\n",
              "0                           14  ...          8789.350\n",
              "1                           14  ...          2701.460\n",
              "2                           14  ...          8052.690\n",
              "3                           14  ...          3145.034\n",
              "4                           14  ...          7048.090\n",
              "\n",
              "[5 rows x 17 columns]"
            ]
          },
          "metadata": {
            "tags": []
          },
          "execution_count": 3
        }
      ]
    }
  ]
}