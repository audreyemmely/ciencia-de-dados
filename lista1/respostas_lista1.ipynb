{
  "nbformat": 4,
  "nbformat_minor": 0,
  "metadata": {
    "colab": {
      "name": "respostas-lista1.ipynb",
      "provenance": [],
      "collapsed_sections": []
    },
    "kernelspec": {
      "name": "python3",
      "display_name": "Python 3"
    }
  },
  "cells": [
    {
      "cell_type": "markdown",
      "metadata": {
        "id": "ZYNMaOlGKdJh"
      },
      "source": [
        "**Enunciado:** \n",
        "\n",
        "Crie um conjunto de dados com duas variáveis V1 e V2, tal que:\n",
        "\n",
        "a. Mediana de V1 < Média de V1 \n",
        "\n",
        "b. Mediana de V2 > Média de V2\n",
        "\n",
        "\n",
        "---\n",
        "\n"
      ]
    },
    {
      "cell_type": "markdown",
      "metadata": {
        "id": "iV-BranCKsNw"
      },
      "source": [
        "Importando bibliotecas"
      ]
    },
    {
      "cell_type": "code",
      "metadata": {
        "id": "sGBn5GMjKTTn"
      },
      "source": [
        "import pandas as pd\n",
        "import numpy as np\n",
        "import matplotlib.pyplot as plt\n",
        "from scipy.stats import normaltest"
      ],
      "execution_count": 1,
      "outputs": []
    },
    {
      "cell_type": "markdown",
      "metadata": {
        "id": "HOBnTVCIN32L"
      },
      "source": [
        "Lendo a base de dados"
      ]
    },
    {
      "cell_type": "code",
      "metadata": {
        "id": "gleUrBmYKrpu"
      },
      "source": [
        "conjunto = pd.read_csv('https://raw.githubusercontent.com/audreyemmely/ciencia-de-dados/main/lista1/conjunto-lista1.csv')"
      ],
      "execution_count": 2,
      "outputs": []
    },
    {
      "cell_type": "code",
      "metadata": {
        "id": "MEkGWux8UpZa",
        "outputId": "2a49b5b8-e41b-4b7c-ecc3-87a2ce5801fe",
        "colab": {
          "base_uri": "https://localhost:8080/",
          "height": 1000
        }
      },
      "source": [
        "conjunto"
      ],
      "execution_count": 3,
      "outputs": [
        {
          "output_type": "execute_result",
          "data": {
            "text/html": [
              "<div>\n",
              "<style scoped>\n",
              "    .dataframe tbody tr th:only-of-type {\n",
              "        vertical-align: middle;\n",
              "    }\n",
              "\n",
              "    .dataframe tbody tr th {\n",
              "        vertical-align: top;\n",
              "    }\n",
              "\n",
              "    .dataframe thead th {\n",
              "        text-align: right;\n",
              "    }\n",
              "</style>\n",
              "<table border=\"1\" class=\"dataframe\">\n",
              "  <thead>\n",
              "    <tr style=\"text-align: right;\">\n",
              "      <th></th>\n",
              "      <th>V1</th>\n",
              "      <th>V2</th>\n",
              "    </tr>\n",
              "  </thead>\n",
              "  <tbody>\n",
              "    <tr>\n",
              "      <th>0</th>\n",
              "      <td>1.1</td>\n",
              "      <td>1</td>\n",
              "    </tr>\n",
              "    <tr>\n",
              "      <th>1</th>\n",
              "      <td>1.2</td>\n",
              "      <td>2</td>\n",
              "    </tr>\n",
              "    <tr>\n",
              "      <th>2</th>\n",
              "      <td>1.3</td>\n",
              "      <td>3</td>\n",
              "    </tr>\n",
              "    <tr>\n",
              "      <th>3</th>\n",
              "      <td>1.4</td>\n",
              "      <td>4</td>\n",
              "    </tr>\n",
              "    <tr>\n",
              "      <th>4</th>\n",
              "      <td>1.6</td>\n",
              "      <td>5</td>\n",
              "    </tr>\n",
              "    <tr>\n",
              "      <th>5</th>\n",
              "      <td>1.8</td>\n",
              "      <td>6</td>\n",
              "    </tr>\n",
              "    <tr>\n",
              "      <th>6</th>\n",
              "      <td>2.0</td>\n",
              "      <td>7</td>\n",
              "    </tr>\n",
              "    <tr>\n",
              "      <th>7</th>\n",
              "      <td>2.2</td>\n",
              "      <td>8</td>\n",
              "    </tr>\n",
              "    <tr>\n",
              "      <th>8</th>\n",
              "      <td>2.4</td>\n",
              "      <td>9</td>\n",
              "    </tr>\n",
              "    <tr>\n",
              "      <th>9</th>\n",
              "      <td>2.6</td>\n",
              "      <td>10</td>\n",
              "    </tr>\n",
              "    <tr>\n",
              "      <th>10</th>\n",
              "      <td>2.8</td>\n",
              "      <td>11</td>\n",
              "    </tr>\n",
              "    <tr>\n",
              "      <th>11</th>\n",
              "      <td>3.0</td>\n",
              "      <td>12</td>\n",
              "    </tr>\n",
              "    <tr>\n",
              "      <th>12</th>\n",
              "      <td>3.2</td>\n",
              "      <td>13</td>\n",
              "    </tr>\n",
              "    <tr>\n",
              "      <th>13</th>\n",
              "      <td>3.4</td>\n",
              "      <td>14</td>\n",
              "    </tr>\n",
              "    <tr>\n",
              "      <th>14</th>\n",
              "      <td>3.6</td>\n",
              "      <td>15</td>\n",
              "    </tr>\n",
              "    <tr>\n",
              "      <th>15</th>\n",
              "      <td>3.8</td>\n",
              "      <td>16</td>\n",
              "    </tr>\n",
              "    <tr>\n",
              "      <th>16</th>\n",
              "      <td>4.0</td>\n",
              "      <td>17</td>\n",
              "    </tr>\n",
              "    <tr>\n",
              "      <th>17</th>\n",
              "      <td>4.2</td>\n",
              "      <td>18</td>\n",
              "    </tr>\n",
              "    <tr>\n",
              "      <th>18</th>\n",
              "      <td>4.4</td>\n",
              "      <td>19</td>\n",
              "    </tr>\n",
              "    <tr>\n",
              "      <th>19</th>\n",
              "      <td>4.6</td>\n",
              "      <td>20</td>\n",
              "    </tr>\n",
              "    <tr>\n",
              "      <th>20</th>\n",
              "      <td>4.9</td>\n",
              "      <td>21</td>\n",
              "    </tr>\n",
              "    <tr>\n",
              "      <th>21</th>\n",
              "      <td>5.0</td>\n",
              "      <td>22</td>\n",
              "    </tr>\n",
              "    <tr>\n",
              "      <th>22</th>\n",
              "      <td>5.2</td>\n",
              "      <td>23</td>\n",
              "    </tr>\n",
              "    <tr>\n",
              "      <th>23</th>\n",
              "      <td>5.4</td>\n",
              "      <td>24</td>\n",
              "    </tr>\n",
              "    <tr>\n",
              "      <th>24</th>\n",
              "      <td>5.6</td>\n",
              "      <td>25</td>\n",
              "    </tr>\n",
              "    <tr>\n",
              "      <th>25</th>\n",
              "      <td>5.8</td>\n",
              "      <td>26</td>\n",
              "    </tr>\n",
              "    <tr>\n",
              "      <th>26</th>\n",
              "      <td>6.0</td>\n",
              "      <td>27</td>\n",
              "    </tr>\n",
              "    <tr>\n",
              "      <th>27</th>\n",
              "      <td>6.2</td>\n",
              "      <td>28</td>\n",
              "    </tr>\n",
              "    <tr>\n",
              "      <th>28</th>\n",
              "      <td>6.4</td>\n",
              "      <td>29</td>\n",
              "    </tr>\n",
              "    <tr>\n",
              "      <th>29</th>\n",
              "      <td>6.6</td>\n",
              "      <td>30</td>\n",
              "    </tr>\n",
              "    <tr>\n",
              "      <th>30</th>\n",
              "      <td>6.8</td>\n",
              "      <td>31</td>\n",
              "    </tr>\n",
              "    <tr>\n",
              "      <th>31</th>\n",
              "      <td>7.0</td>\n",
              "      <td>32</td>\n",
              "    </tr>\n",
              "    <tr>\n",
              "      <th>32</th>\n",
              "      <td>7.1</td>\n",
              "      <td>33</td>\n",
              "    </tr>\n",
              "    <tr>\n",
              "      <th>33</th>\n",
              "      <td>7.2</td>\n",
              "      <td>34</td>\n",
              "    </tr>\n",
              "    <tr>\n",
              "      <th>34</th>\n",
              "      <td>7.3</td>\n",
              "      <td>35</td>\n",
              "    </tr>\n",
              "    <tr>\n",
              "      <th>35</th>\n",
              "      <td>7.4</td>\n",
              "      <td>36</td>\n",
              "    </tr>\n",
              "    <tr>\n",
              "      <th>36</th>\n",
              "      <td>7.8</td>\n",
              "      <td>37</td>\n",
              "    </tr>\n",
              "    <tr>\n",
              "      <th>37</th>\n",
              "      <td>8.0</td>\n",
              "      <td>38</td>\n",
              "    </tr>\n",
              "    <tr>\n",
              "      <th>38</th>\n",
              "      <td>8.2</td>\n",
              "      <td>39</td>\n",
              "    </tr>\n",
              "    <tr>\n",
              "      <th>39</th>\n",
              "      <td>8.4</td>\n",
              "      <td>40</td>\n",
              "    </tr>\n",
              "    <tr>\n",
              "      <th>40</th>\n",
              "      <td>8.6</td>\n",
              "      <td>41</td>\n",
              "    </tr>\n",
              "    <tr>\n",
              "      <th>41</th>\n",
              "      <td>8.8</td>\n",
              "      <td>42</td>\n",
              "    </tr>\n",
              "    <tr>\n",
              "      <th>42</th>\n",
              "      <td>9.0</td>\n",
              "      <td>43</td>\n",
              "    </tr>\n",
              "    <tr>\n",
              "      <th>43</th>\n",
              "      <td>9.2</td>\n",
              "      <td>44</td>\n",
              "    </tr>\n",
              "    <tr>\n",
              "      <th>44</th>\n",
              "      <td>9.4</td>\n",
              "      <td>45</td>\n",
              "    </tr>\n",
              "    <tr>\n",
              "      <th>45</th>\n",
              "      <td>10.0</td>\n",
              "      <td>46</td>\n",
              "    </tr>\n",
              "    <tr>\n",
              "      <th>46</th>\n",
              "      <td>10.8</td>\n",
              "      <td>46</td>\n",
              "    </tr>\n",
              "    <tr>\n",
              "      <th>47</th>\n",
              "      <td>11.0</td>\n",
              "      <td>47</td>\n",
              "    </tr>\n",
              "    <tr>\n",
              "      <th>48</th>\n",
              "      <td>12.0</td>\n",
              "      <td>47</td>\n",
              "    </tr>\n",
              "  </tbody>\n",
              "</table>\n",
              "</div>"
            ],
            "text/plain": [
              "      V1  V2\n",
              "0    1.1   1\n",
              "1    1.2   2\n",
              "2    1.3   3\n",
              "3    1.4   4\n",
              "4    1.6   5\n",
              "5    1.8   6\n",
              "6    2.0   7\n",
              "7    2.2   8\n",
              "8    2.4   9\n",
              "9    2.6  10\n",
              "10   2.8  11\n",
              "11   3.0  12\n",
              "12   3.2  13\n",
              "13   3.4  14\n",
              "14   3.6  15\n",
              "15   3.8  16\n",
              "16   4.0  17\n",
              "17   4.2  18\n",
              "18   4.4  19\n",
              "19   4.6  20\n",
              "20   4.9  21\n",
              "21   5.0  22\n",
              "22   5.2  23\n",
              "23   5.4  24\n",
              "24   5.6  25\n",
              "25   5.8  26\n",
              "26   6.0  27\n",
              "27   6.2  28\n",
              "28   6.4  29\n",
              "29   6.6  30\n",
              "30   6.8  31\n",
              "31   7.0  32\n",
              "32   7.1  33\n",
              "33   7.2  34\n",
              "34   7.3  35\n",
              "35   7.4  36\n",
              "36   7.8  37\n",
              "37   8.0  38\n",
              "38   8.2  39\n",
              "39   8.4  40\n",
              "40   8.6  41\n",
              "41   8.8  42\n",
              "42   9.0  43\n",
              "43   9.2  44\n",
              "44   9.4  45\n",
              "45  10.0  46\n",
              "46  10.8  46\n",
              "47  11.0  47\n",
              "48  12.0  47"
            ]
          },
          "metadata": {
            "tags": []
          },
          "execution_count": 3
        }
      ]
    },
    {
      "cell_type": "markdown",
      "metadata": {
        "id": "U4B1RJauSjTp"
      },
      "source": [
        "Calculando a mediana e a média de V1\n",
        "\n"
      ]
    },
    {
      "cell_type": "code",
      "metadata": {
        "id": "yEq0EYkJSPmI",
        "outputId": "a580c2fb-4376-486c-9d56-79183ec6fcab",
        "colab": {
          "base_uri": "https://localhost:8080/"
        }
      },
      "source": [
        "medianaV1 = np.median(conjunto['V1'])\n",
        "medianaV1"
      ],
      "execution_count": 4,
      "outputs": [
        {
          "output_type": "execute_result",
          "data": {
            "text/plain": [
              "5.6"
            ]
          },
          "metadata": {
            "tags": []
          },
          "execution_count": 4
        }
      ]
    },
    {
      "cell_type": "code",
      "metadata": {
        "id": "BuBN1mEDSZ_1",
        "outputId": "41c907ea-cf2b-490a-ddec-8a0f4fd858e1",
        "colab": {
          "base_uri": "https://localhost:8080/"
        }
      },
      "source": [
        "médiaV1 = np.mean(conjunto['V1'])\n",
        "médiaV1"
      ],
      "execution_count": 5,
      "outputs": [
        {
          "output_type": "execute_result",
          "data": {
            "text/plain": [
              "5.626530612244899"
            ]
          },
          "metadata": {
            "tags": []
          },
          "execution_count": 5
        }
      ]
    },
    {
      "cell_type": "markdown",
      "metadata": {
        "id": "0kT7okXrSoI6"
      },
      "source": [
        "Calculando a mediana e a média de V2"
      ]
    },
    {
      "cell_type": "code",
      "metadata": {
        "id": "kggxqxULShzz",
        "outputId": "c487690b-9a75-4657-b4f1-e0410035505a",
        "colab": {
          "base_uri": "https://localhost:8080/"
        }
      },
      "source": [
        "medianaV2 = np.median(conjunto['V2'])\n",
        "medianaV2"
      ],
      "execution_count": 6,
      "outputs": [
        {
          "output_type": "execute_result",
          "data": {
            "text/plain": [
              "25.0"
            ]
          },
          "metadata": {
            "tags": []
          },
          "execution_count": 6
        }
      ]
    },
    {
      "cell_type": "code",
      "metadata": {
        "id": "qXFM-A4CSxfM",
        "outputId": "0f7c1797-9605-4360-91e8-5810e47869e5",
        "colab": {
          "base_uri": "https://localhost:8080/"
        }
      },
      "source": [
        "médiaV2 = np.mean(conjunto['V2'])\n",
        "médiaV2"
      ],
      "execution_count": 7,
      "outputs": [
        {
          "output_type": "execute_result",
          "data": {
            "text/plain": [
              "24.918367346938776"
            ]
          },
          "metadata": {
            "tags": []
          },
          "execution_count": 7
        }
      ]
    },
    {
      "cell_type": "markdown",
      "metadata": {
        "id": "eT_9llcIS5k-"
      },
      "source": [
        "\n",
        "\n",
        "---\n",
        "\n"
      ]
    },
    {
      "cell_type": "markdown",
      "metadata": {
        "id": "c51FFRGVS8Dh"
      },
      "source": [
        "**Enunciado:**\n",
        "\n",
        "Baseando-se no conjunto de dados, crie uma função\n",
        "em Python que:\n",
        "\n",
        "a. Mostra o histograma de cada variável;\n",
        "\n",
        "b. Verifica se as variáveis seguem uma distribuição Normal (use teste\n",
        "de hipótese)\n",
        "\n",
        "\n",
        "---\n",
        "\n"
      ]
    },
    {
      "cell_type": "markdown",
      "metadata": {
        "id": "d6_5gAZZLMdM"
      },
      "source": [
        "Mostrando o histograma da variável V1"
      ]
    },
    {
      "cell_type": "code",
      "metadata": {
        "id": "LR7y1SdThnT8",
        "outputId": "49ad86e4-6f82-46a7-ef70-262d73fb3fef",
        "colab": {
          "base_uri": "https://localhost:8080/"
        }
      },
      "source": [
        "np.histogram(conjunto['V1'])"
      ],
      "execution_count": 8,
      "outputs": [
        {
          "output_type": "execute_result",
          "data": {
            "text/plain": [
              "(array([7, 6, 5, 6, 5, 7, 5, 4, 2, 2]),\n",
              " array([ 1.1 ,  2.19,  3.28,  4.37,  5.46,  6.55,  7.64,  8.73,  9.82,\n",
              "        10.91, 12.  ]))"
            ]
          },
          "metadata": {
            "tags": []
          },
          "execution_count": 8
        }
      ]
    },
    {
      "cell_type": "code",
      "metadata": {
        "id": "h8ImyMb-TNul",
        "outputId": "eff5671c-3b17-4a36-ad1e-90a2f711d1da",
        "colab": {
          "base_uri": "https://localhost:8080/",
          "height": 265
        }
      },
      "source": [
        "plt.hist(conjunto['V1'])\n",
        "plt.show()"
      ],
      "execution_count": 9,
      "outputs": [
        {
          "output_type": "display_data",
          "data": {
            "image/png": "[encoded data removed]",
            "text/plain": [
              "<Figure size 432x288 with 1 Axes>"
            ]
          },
          "metadata": {
            "tags": [],
            "needs_background": "light"
          }
        }
      ]
    },
    {
      "cell_type": "markdown",
      "metadata": {
        "id": "E6fEse5wLRPW"
      },
      "source": [
        "Mostrando o histograma da variável V2"
      ]
    },
    {
      "cell_type": "code",
      "metadata": {
        "id": "s5ukNOj2hyDl",
        "outputId": "f1768a52-897a-4480-f7dd-be594af7a07d",
        "colab": {
          "base_uri": "https://localhost:8080/"
        }
      },
      "source": [
        "np.histogram(conjunto['V2'])"
      ],
      "execution_count": 10,
      "outputs": [
        {
          "output_type": "execute_result",
          "data": {
            "text/plain": [
              "(array([5, 5, 4, 5, 4, 5, 5, 4, 5, 7]),\n",
              " array([ 1. ,  5.6, 10.2, 14.8, 19.4, 24. , 28.6, 33.2, 37.8, 42.4, 47. ]))"
            ]
          },
          "metadata": {
            "tags": []
          },
          "execution_count": 10
        }
      ]
    },
    {
      "cell_type": "code",
      "metadata": {
        "id": "Daz8YzlDUII1",
        "outputId": "9967c9b2-b157-4e36-f094-eae428adb6b3",
        "colab": {
          "base_uri": "https://localhost:8080/",
          "height": 265
        }
      },
      "source": [
        "plt.hist(conjunto['V2'])\n",
        "plt.show()"
      ],
      "execution_count": 11,
      "outputs": [
        {
          "output_type": "display_data",
          "data": {
            "image/png": "[encoded data removed]",
            "text/plain": [
              "<Figure size 432x288 with 1 Axes>"
            ]
          },
          "metadata": {
            "tags": [],
            "needs_background": "light"
          }
        }
      ]
    },
    {
      "cell_type": "markdown",
      "metadata": {
        "id": "VT9t41LfhOc8"
      },
      "source": [
        "**Teste de normalidade**"
      ]
    },
    {
      "cell_type": "markdown",
      "metadata": {
        "id": "4j4lJnWNeQRO"
      },
      "source": [
        "Definindo a significância do teste ($\\alpha$)"
      ]
    },
    {
      "cell_type": "code",
      "metadata": {
        "id": "ApCkujsydj71"
      },
      "source": [
        "significancia = 0.05"
      ],
      "execution_count": 12,
      "outputs": []
    },
    {
      "cell_type": "markdown",
      "metadata": {
        "id": "2wJEhY7OeHNC"
      },
      "source": [
        "Critério do valor $p$\n",
        "\n",
        "Rejeitar $H_0$ se o valor $p$ < 0.05"
      ]
    },
    {
      "cell_type": "code",
      "metadata": {
        "id": "xCClodVPeGWc"
      },
      "source": [
        "stat_test, p_valor = normaltest(conjunto.V1)"
      ],
      "execution_count": 13,
      "outputs": []
    },
    {
      "cell_type": "markdown",
      "metadata": {
        "id": "gYkeyJFJg4Qe"
      },
      "source": [
        "A função `normaltest` testa a hipótese nula $H_0$ de que a amostra é proveniente de uma distribuição normal"
      ]
    },
    {
      "cell_type": "code",
      "metadata": {
        "id": "j40l0qiXeMmP",
        "outputId": "75d6f209-58c1-4d4c-c50d-7a74f2faefcf",
        "colab": {
          "base_uri": "https://localhost:8080/"
        }
      },
      "source": [
        "stat_test"
      ],
      "execution_count": 14,
      "outputs": [
        {
          "output_type": "execute_result",
          "data": {
            "text/plain": [
              "3.701844726819144"
            ]
          },
          "metadata": {
            "tags": []
          },
          "execution_count": 14
        }
      ]
    },
    {
      "cell_type": "code",
      "metadata": {
        "id": "K7r4iMSdfrsA",
        "outputId": "caf5c7d4-0365-48a8-c741-29bc366d8ef5",
        "colab": {
          "base_uri": "https://localhost:8080/"
        }
      },
      "source": [
        "p_valor"
      ],
      "execution_count": 15,
      "outputs": [
        {
          "output_type": "execute_result",
          "data": {
            "text/plain": [
              "0.15709220336933027"
            ]
          },
          "metadata": {
            "tags": []
          },
          "execution_count": 15
        }
      ]
    },
    {
      "cell_type": "code",
      "metadata": {
        "id": "iQ106RpJepti",
        "outputId": "131a27ac-e18f-4877-dcb9-a914ddbd3a43",
        "colab": {
          "base_uri": "https://localhost:8080/"
        }
      },
      "source": [
        "p_valor < significancia"
      ],
      "execution_count": 16,
      "outputs": [
        {
          "output_type": "execute_result",
          "data": {
            "text/plain": [
              "False"
            ]
          },
          "metadata": {
            "tags": []
          },
          "execution_count": 16
        }
      ]
    },
    {
      "cell_type": "markdown",
      "metadata": {
        "id": "HHwhlH55iF-s"
      },
      "source": [
        "Nesse caso, como o valor de $p$ não é menor que o valor da significância, a hipotése para a variável V1 não é rejeitada"
      ]
    },
    {
      "cell_type": "code",
      "metadata": {
        "id": "72L-GbfdesyN"
      },
      "source": [
        "stat_test, p_valor = normaltest(conjunto.V2)"
      ],
      "execution_count": 17,
      "outputs": []
    },
    {
      "cell_type": "code",
      "metadata": {
        "id": "R-XXN2rkesY6",
        "outputId": "96606aff-29ec-4706-a340-2d0513a830bc",
        "colab": {
          "base_uri": "https://localhost:8080/"
        }
      },
      "source": [
        "stat_test"
      ],
      "execution_count": 18,
      "outputs": [
        {
          "output_type": "execute_result",
          "data": {
            "text/plain": [
              "12.881601127711383"
            ]
          },
          "metadata": {
            "tags": []
          },
          "execution_count": 18
        }
      ]
    },
    {
      "cell_type": "code",
      "metadata": {
        "id": "hP-dQmfIfbQF",
        "outputId": "63dc062f-c38c-4b15-82f0-f2d98ca44dc5",
        "colab": {
          "base_uri": "https://localhost:8080/"
        }
      },
      "source": [
        "p_valor"
      ],
      "execution_count": 19,
      "outputs": [
        {
          "output_type": "execute_result",
          "data": {
            "text/plain": [
              "0.0015951291665587844"
            ]
          },
          "metadata": {
            "tags": []
          },
          "execution_count": 19
        }
      ]
    },
    {
      "cell_type": "code",
      "metadata": {
        "id": "BLTNHgOWfSo0",
        "outputId": "c43f2ed8-3876-4675-f6e0-0a4323da1af9",
        "colab": {
          "base_uri": "https://localhost:8080/"
        }
      },
      "source": [
        "p_valor < significancia"
      ],
      "execution_count": 20,
      "outputs": [
        {
          "output_type": "execute_result",
          "data": {
            "text/plain": [
              "True"
            ]
          },
          "metadata": {
            "tags": []
          },
          "execution_count": 20
        }
      ]
    },
    {
      "cell_type": "markdown",
      "metadata": {
        "id": "W1-olKUbiaQs"
      },
      "source": [
        "Nesse caso, como o valor de $p$ é menor que valor da significância, a hipotése para a variável V2 é rejeitada"
      ]
    },
    {
      "cell_type": "markdown",
      "metadata": {
        "id": "_kaZDrxdhbHN"
      },
      "source": [
        "\n",
        "\n",
        "---\n",
        "\n"
      ]
    }
  ]
}