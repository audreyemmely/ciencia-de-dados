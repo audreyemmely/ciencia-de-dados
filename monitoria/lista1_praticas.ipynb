{
  "nbformat": 4,
  "nbformat_minor": 0,
  "metadata": {
    "colab": {
      "name": "lista1-praticas.ipynb",
      "provenance": [],
      "collapsed_sections": [],
      "toc_visible": true
    },
    "kernelspec": {
      "name": "python3",
      "display_name": "Python 3"
    },
    "language_info": {
      "name": "python"
    }
  },
  "cells": [
    {
      "cell_type": "markdown",
      "metadata": {
        "id": "fNgTALc0Hq6f"
      },
      "source": [
        "# Possível resolução para as questões 4, 5 e 10, da lista 1."
      ]
    },
    {
      "cell_type": "markdown",
      "metadata": {
        "id": "ZFMo9kHFH3Ip"
      },
      "source": [
        "## Questão 4"
      ]
    },
    {
      "cell_type": "code",
      "metadata": {
        "id": "--jW638LHoEW"
      },
      "source": [
        ""
      ],
      "execution_count": null,
      "outputs": []
    },
    {
      "cell_type": "markdown",
      "metadata": {
        "id": "xXIzZq3FH75A"
      },
      "source": [
        "## Questão 5"
      ]
    },
    {
      "cell_type": "code",
      "metadata": {
        "id": "pxkD6nW7H9so"
      },
      "source": [
        ""
      ],
      "execution_count": null,
      "outputs": []
    },
    {
      "cell_type": "markdown",
      "metadata": {
        "id": "xs_5EjmKH-DP"
      },
      "source": [
        "## Questão 10"
      ]
    }
  ]
}