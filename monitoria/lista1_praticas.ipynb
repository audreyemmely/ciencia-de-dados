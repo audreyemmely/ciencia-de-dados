{
  "nbformat": 4,
  "nbformat_minor": 0,
  "metadata": {
    "colab": {
      "name": "lista1_praticas.ipynb",
      "provenance": [],
      "collapsed_sections": [],
      "toc_visible": true
    },
    "kernelspec": {
      "name": "python3",
      "display_name": "Python 3"
    },
    "language_info": {
      "name": "python"
    }
  },
  "cells": [
    {
      "cell_type": "markdown",
      "metadata": {
        "id": "fNgTALc0Hq6f"
      },
      "source": [
        "# Possível resolução para as questões 4, 5 e 10, da lista 1."
      ]
    },
    {
      "cell_type": "markdown",
      "metadata": {
        "id": "ZFMo9kHFH3Ip"
      },
      "source": [
        "## Questão 4"
      ]
    },
    {
      "cell_type": "code",
      "metadata": {
        "id": "--jW638LHoEW"
      },
      "source": [
        ""
      ],
      "execution_count": null,
      "outputs": []
    },
    {
      "cell_type": "markdown",
      "metadata": {
        "id": "xXIzZq3FH75A"
      },
      "source": [
        "## Questão 5"
      ]
    },
    {
      "cell_type": "code",
      "metadata": {
        "id": "pxkD6nW7H9so"
      },
      "source": [
        ""
      ],
      "execution_count": null,
      "outputs": []
    },
    {
      "cell_type": "markdown",
      "metadata": {
        "id": "xs_5EjmKH-DP"
      },
      "source": [
        "## Questão 10"
      ]
    },
    {
      "cell_type": "markdown",
      "metadata": {
        "id": "bgz-FXuiJDEk"
      },
      "source": [
        "Resolução proposta pelo aluno Eduardo Henrique"
      ]
    },
    {
      "cell_type": "code",
      "metadata": {
        "colab": {
          "base_uri": "https://localhost:8080/",
          "height": 432
        },
        "id": "BxzlKZH_MgNc",
        "outputId": "3d40ac1a-0183-4173-8875-9ba96f5ba98e"
      },
      "source": [
        "from sklearn import datasets\n",
        "from sklearn.neighbors import KNeighborsClassifier\n",
        "from sklearn.metrics import f1_score\n",
        "from sklearn.model_selection import cross_val_score, train_test_split\n",
        "from matplotlib import pyplot as plt\n",
        "\n",
        "x, y = datasets.load_iris(return_X_y=True)\n",
        "x_train, x_test, y_train, y_test = train_test_split(x, y, test_size=0.25, random_state = 20)\n",
        "f = []\n",
        "cross = []\n",
        "for i in range(1,10):\n",
        "  knn = KNeighborsClassifier(i).fit(x_train, y_train)\n",
        "  y_predict =  knn.predict(x_test)\n",
        "\n",
        "  f_measure_score = f1_score(y_test, y_predict, average = 'micro')\n",
        "  cross_validation_score = cross_val_score(knn, x, y)\n",
        "  f.append(f_measure_score)\n",
        "  cross.append(cross_validation_score.mean())\n",
        "  print(\"Número de vizinhos: %d\"%(i),\" ---> F-measure: %0.2f\"%(f_measure_score), \" ---- Cross validation: %0.2f\"%(cross_validation_score.mean()))\n",
        "\n",
        "plt.plot(range(9), cross, label = \"Cross-Validation\")\n",
        "plt.plot(range(9), f, label='F-Measure')\n",
        "plt.xlabel('Número de vizinhos')\n",
        "plt.ylabel('Métrica')\n",
        "plt.legend()\n",
        "plt.show()"
      ],
      "execution_count": 1,
      "outputs": [
        {
          "output_type": "stream",
          "text": [
            "Número de vizinhos: 1  ---> F-measure: 0.89  ---- Cross validation: 0.96\n",
            "Número de vizinhos: 2  ---> F-measure: 0.89  ---- Cross validation: 0.95\n",
            "Número de vizinhos: 3  ---> F-measure: 0.92  ---- Cross validation: 0.97\n",
            "Número de vizinhos: 4  ---> F-measure: 0.92  ---- Cross validation: 0.97\n",
            "Número de vizinhos: 5  ---> F-measure: 0.95  ---- Cross validation: 0.97\n",
            "Número de vizinhos: 6  ---> F-measure: 0.95  ---- Cross validation: 0.98\n",
            "Número de vizinhos: 7  ---> F-measure: 0.97  ---- Cross validation: 0.98\n",
            "Número de vizinhos: 8  ---> F-measure: 0.95  ---- Cross validation: 0.97\n",
            "Número de vizinhos: 9  ---> F-measure: 0.97  ---- Cross validation: 0.97\n"
          ],
          "name": "stdout"
        },
        {
          "output_type": "display_data",
          "data": {
            "image/png": "[encoded data removed]",
            "text/plain": [
              "<Figure size 432x288 with 1 Axes>"
            ]
          },
          "metadata": {
            "tags": [],
            "needs_background": "light"
          }
        }
      ]
    }
  ]
}