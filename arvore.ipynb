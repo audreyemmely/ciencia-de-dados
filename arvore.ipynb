{
  "nbformat": 4,
  "nbformat_minor": 0,
  "metadata": {
    "colab": {
      "name": "arvore.ipynb",
      "provenance": []
    },
    "kernelspec": {
      "name": "python3",
      "display_name": "Python 3"
    }
  },
  "cells": [
    {
      "cell_type": "code",
      "metadata": {
        "colab": {
          "base_uri": "https://localhost:8080/"
        },
        "id": "YHVFvIzTRSAO",
        "outputId": "05a45cea-219d-4c24-e0ca-e30defd38a32"
      },
      "source": [
        "from sklearn import tree\n",
        "\n",
        "features = [[140, 1], [130, 1],\n",
        "           [150, 0], [170, 0]]\n",
        "labels = [0, 0, 1, 1] # 0 é morango e 1 é maracujá\n",
        "\n",
        "# o classificador encontra padrões nos dados de treinamento\n",
        "clf = tree.DecisionTreeClassifier() # instância do classificador\n",
        "clf = clf.fit(features, labels) # fit encontra padrões nos dados\n",
        "\n",
        "#classificar uma nova fruta\n",
        "print(clf.predict([[130, 1]]))"
      ],
      "execution_count": 8,
      "outputs": [
        {
          "output_type": "stream",
          "text": [
            "[0]\n"
          ],
          "name": "stdout"
        }
      ]
    }
  ]
}