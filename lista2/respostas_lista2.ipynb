{
  "nbformat": 4,
  "nbformat_minor": 0,
  "metadata": {
    "colab": {
      "name": "respostas_lista2.ipynb",
      "provenance": [],
      "collapsed_sections": []
    },
    "kernelspec": {
      "name": "python3",
      "display_name": "Python 3"
    }
  },
  "cells": [
    {
      "cell_type": "markdown",
      "metadata": {
        "id": "STJX3LuwAZuY"
      },
      "source": [
        "**Enunciado:** Usando técnicas de Visualização de Dados, construa um gráfico a partir dos seguintes dados:"
      ]
    },
    {
      "cell_type": "code",
      "metadata": {
        "id": "vLmkhRuliR6Y"
      },
      "source": [
        "import pandas as pd"
      ],
      "execution_count": 1,
      "outputs": []
    },
    {
      "cell_type": "code",
      "metadata": {
        "id": "rHuIim4UiTOv"
      },
      "source": [
        "base = pd.read_csv('https://raw.githubusercontent.com/audreyemmely/ciencia-de-dados/main/lista2/conjunto-lista2.csv')"
      ],
      "execution_count": 2,
      "outputs": []
    },
    {
      "cell_type": "code",
      "metadata": {
        "id": "yXm6ocFAjBnn",
        "colab": {
          "base_uri": "https://localhost:8080/",
          "height": 111
        },
        "outputId": "1d8196ca-36d9-457e-c076-da489d640771"
      },
      "source": [
        "base.head()"
      ],
      "execution_count": 3,
      "outputs": [
        {
          "output_type": "execute_result",
          "data": {
            "text/html": [
              "<div>\n",
              "<style scoped>\n",
              "    .dataframe tbody tr th:only-of-type {\n",
              "        vertical-align: middle;\n",
              "    }\n",
              "\n",
              "    .dataframe tbody tr th {\n",
              "        vertical-align: top;\n",
              "    }\n",
              "\n",
              "    .dataframe thead th {\n",
              "        text-align: right;\n",
              "    }\n",
              "</style>\n",
              "<table border=\"1\" class=\"dataframe\">\n",
              "  <thead>\n",
              "    <tr style=\"text-align: right;\">\n",
              "      <th></th>\n",
              "      <th>Situação</th>\n",
              "      <th>Janeiro</th>\n",
              "      <th>Fevereiro</th>\n",
              "      <th>Março</th>\n",
              "      <th>Abril</th>\n",
              "      <th>Maio</th>\n",
              "      <th>Junho</th>\n",
              "      <th>Julho</th>\n",
              "      <th>Agosto</th>\n",
              "      <th>Setembro</th>\n",
              "      <th>Outubro</th>\n",
              "      <th>Novembro</th>\n",
              "      <th>Dezembro</th>\n",
              "    </tr>\n",
              "  </thead>\n",
              "  <tbody>\n",
              "    <tr>\n",
              "      <th>0</th>\n",
              "      <td>Recebidos</td>\n",
              "      <td>160</td>\n",
              "      <td>184</td>\n",
              "      <td>241</td>\n",
              "      <td>149</td>\n",
              "      <td>180</td>\n",
              "      <td>161</td>\n",
              "      <td>132</td>\n",
              "      <td>202</td>\n",
              "      <td>160</td>\n",
              "      <td>139</td>\n",
              "      <td>149</td>\n",
              "      <td>177</td>\n",
              "    </tr>\n",
              "    <tr>\n",
              "      <th>1</th>\n",
              "      <td>Processados</td>\n",
              "      <td>160</td>\n",
              "      <td>184</td>\n",
              "      <td>237</td>\n",
              "      <td>148</td>\n",
              "      <td>181</td>\n",
              "      <td>150</td>\n",
              "      <td>123</td>\n",
              "      <td>156</td>\n",
              "      <td>126</td>\n",
              "      <td>104</td>\n",
              "      <td>124</td>\n",
              "      <td>140</td>\n",
              "    </tr>\n",
              "  </tbody>\n",
              "</table>\n",
              "</div>"
            ],
            "text/plain": [
              "      Situação  Janeiro  Fevereiro  ...  Outubro  Novembro  Dezembro\n",
              "0    Recebidos      160        184  ...      139       149       177\n",
              "1  Processados      160        184  ...      104       124       140\n",
              "\n",
              "[2 rows x 13 columns]"
            ]
          },
          "metadata": {
            "tags": []
          },
          "execution_count": 3
        }
      ]
    },
    {
      "cell_type": "markdown",
      "metadata": {
        "id": "rln8jRibAbUD"
      },
      "source": [
        "**Enunciado:** Usando os dados temporais disponível no link a seguir sobre vendas de medicamentos na Austrália, que tipo de conclusões podemos obter?"
      ]
    },
    {
      "cell_type": "code",
      "metadata": {
        "id": "B8xDnYFkKpLz"
      },
      "source": [
        "#!pip install pmdarima"
      ],
      "execution_count": 4,
      "outputs": []
    },
    {
      "cell_type": "code",
      "metadata": {
        "id": "cavpAyT4DJiJ"
      },
      "source": [
        "import matplotlib.pyplot as plt\n",
        "from pmdarima.arima import auto_arima\n",
        "from datetime import datetime\n",
        "from statsmodels.tsa.seasonal import seasonal_decompose\n",
        "from statsmodels.tsa.arima_model import ARIMA\n",
        "from pandas.plotting import register_matplotlib_converters\n",
        "register_matplotlib_converters()"
      ],
      "execution_count": 5,
      "outputs": []
    },
    {
      "cell_type": "code",
      "metadata": {
        "id": "K2FuSqihAcrb"
      },
      "source": [
        "base2 = pd.read_csv('https://raw.githubusercontent.com/bapimentel/Ciencia-de-Dados/master/Dados/Drugs.csv')"
      ],
      "execution_count": 6,
      "outputs": []
    },
    {
      "cell_type": "code",
      "metadata": {
        "colab": {
          "base_uri": "https://localhost:8080/",
          "height": 419
        },
        "id": "ZuvInSKkAg7e",
        "outputId": "969cf594-7ccf-412a-fc8a-0c310ff1aee1"
      },
      "source": [
        "base2"
      ],
      "execution_count": 7,
      "outputs": [
        {
          "output_type": "execute_result",
          "data": {
            "text/html": [
              "<div>\n",
              "<style scoped>\n",
              "    .dataframe tbody tr th:only-of-type {\n",
              "        vertical-align: middle;\n",
              "    }\n",
              "\n",
              "    .dataframe tbody tr th {\n",
              "        vertical-align: top;\n",
              "    }\n",
              "\n",
              "    .dataframe thead th {\n",
              "        text-align: right;\n",
              "    }\n",
              "</style>\n",
              "<table border=\"1\" class=\"dataframe\">\n",
              "  <thead>\n",
              "    <tr style=\"text-align: right;\">\n",
              "      <th></th>\n",
              "      <th>date</th>\n",
              "      <th>value</th>\n",
              "    </tr>\n",
              "  </thead>\n",
              "  <tbody>\n",
              "    <tr>\n",
              "      <th>0</th>\n",
              "      <td>1991-07-01</td>\n",
              "      <td>3.526591</td>\n",
              "    </tr>\n",
              "    <tr>\n",
              "      <th>1</th>\n",
              "      <td>1991-08-01</td>\n",
              "      <td>3.180891</td>\n",
              "    </tr>\n",
              "    <tr>\n",
              "      <th>2</th>\n",
              "      <td>1991-09-01</td>\n",
              "      <td>3.252221</td>\n",
              "    </tr>\n",
              "    <tr>\n",
              "      <th>3</th>\n",
              "      <td>1991-10-01</td>\n",
              "      <td>3.611003</td>\n",
              "    </tr>\n",
              "    <tr>\n",
              "      <th>4</th>\n",
              "      <td>1991-11-01</td>\n",
              "      <td>3.565869</td>\n",
              "    </tr>\n",
              "    <tr>\n",
              "      <th>...</th>\n",
              "      <td>...</td>\n",
              "      <td>...</td>\n",
              "    </tr>\n",
              "    <tr>\n",
              "      <th>199</th>\n",
              "      <td>2008-02-01</td>\n",
              "      <td>21.654285</td>\n",
              "    </tr>\n",
              "    <tr>\n",
              "      <th>200</th>\n",
              "      <td>2008-03-01</td>\n",
              "      <td>18.264945</td>\n",
              "    </tr>\n",
              "    <tr>\n",
              "      <th>201</th>\n",
              "      <td>2008-04-01</td>\n",
              "      <td>23.107677</td>\n",
              "    </tr>\n",
              "    <tr>\n",
              "      <th>202</th>\n",
              "      <td>2008-05-01</td>\n",
              "      <td>22.912510</td>\n",
              "    </tr>\n",
              "    <tr>\n",
              "      <th>203</th>\n",
              "      <td>2008-06-01</td>\n",
              "      <td>19.431740</td>\n",
              "    </tr>\n",
              "  </tbody>\n",
              "</table>\n",
              "<p>204 rows × 2 columns</p>\n",
              "</div>"
            ],
            "text/plain": [
              "           date      value\n",
              "0    1991-07-01   3.526591\n",
              "1    1991-08-01   3.180891\n",
              "2    1991-09-01   3.252221\n",
              "3    1991-10-01   3.611003\n",
              "4    1991-11-01   3.565869\n",
              "..          ...        ...\n",
              "199  2008-02-01  21.654285\n",
              "200  2008-03-01  18.264945\n",
              "201  2008-04-01  23.107677\n",
              "202  2008-05-01  22.912510\n",
              "203  2008-06-01  19.431740\n",
              "\n",
              "[204 rows x 2 columns]"
            ]
          },
          "metadata": {
            "tags": []
          },
          "execution_count": 7
        }
      ]
    },
    {
      "cell_type": "code",
      "metadata": {
        "colab": {
          "base_uri": "https://localhost:8080/"
        },
        "id": "qIe4PHsECZE-",
        "outputId": "94ae45cc-e396-47a2-ed51-6cc47773a7bf"
      },
      "source": [
        "base2.dtypes"
      ],
      "execution_count": 8,
      "outputs": [
        {
          "output_type": "execute_result",
          "data": {
            "text/plain": [
              "date      object\n",
              "value    float64\n",
              "dtype: object"
            ]
          },
          "metadata": {
            "tags": []
          },
          "execution_count": 8
        }
      ]
    },
    {
      "cell_type": "code",
      "metadata": {
        "colab": {
          "base_uri": "https://localhost:8080/",
          "height": 450
        },
        "id": "7UMLEcWDCfX8",
        "outputId": "ed9f1faa-c148-486a-fb4f-f4fd2a20c8e8"
      },
      "source": [
        "#Conversão dos atributos em string para o formato de data: ANO-MÊS-DIA\n",
        "dateparse = lambda dates: datetime.strptime(dates, '%Y-%m-%d')\n",
        "base2 = pd.read_csv('https://raw.githubusercontent.com/bapimentel/Ciencia-de-Dados/master/Dados/Drugs.csv', parse_dates = ['date'], index_col = 'date', date_parser = dateparse)\n",
        "base2"
      ],
      "execution_count": 9,
      "outputs": [
        {
          "output_type": "execute_result",
          "data": {
            "text/html": [
              "<div>\n",
              "<style scoped>\n",
              "    .dataframe tbody tr th:only-of-type {\n",
              "        vertical-align: middle;\n",
              "    }\n",
              "\n",
              "    .dataframe tbody tr th {\n",
              "        vertical-align: top;\n",
              "    }\n",
              "\n",
              "    .dataframe thead th {\n",
              "        text-align: right;\n",
              "    }\n",
              "</style>\n",
              "<table border=\"1\" class=\"dataframe\">\n",
              "  <thead>\n",
              "    <tr style=\"text-align: right;\">\n",
              "      <th></th>\n",
              "      <th>value</th>\n",
              "    </tr>\n",
              "    <tr>\n",
              "      <th>date</th>\n",
              "      <th></th>\n",
              "    </tr>\n",
              "  </thead>\n",
              "  <tbody>\n",
              "    <tr>\n",
              "      <th>1991-07-01</th>\n",
              "      <td>3.526591</td>\n",
              "    </tr>\n",
              "    <tr>\n",
              "      <th>1991-08-01</th>\n",
              "      <td>3.180891</td>\n",
              "    </tr>\n",
              "    <tr>\n",
              "      <th>1991-09-01</th>\n",
              "      <td>3.252221</td>\n",
              "    </tr>\n",
              "    <tr>\n",
              "      <th>1991-10-01</th>\n",
              "      <td>3.611003</td>\n",
              "    </tr>\n",
              "    <tr>\n",
              "      <th>1991-11-01</th>\n",
              "      <td>3.565869</td>\n",
              "    </tr>\n",
              "    <tr>\n",
              "      <th>...</th>\n",
              "      <td>...</td>\n",
              "    </tr>\n",
              "    <tr>\n",
              "      <th>2008-02-01</th>\n",
              "      <td>21.654285</td>\n",
              "    </tr>\n",
              "    <tr>\n",
              "      <th>2008-03-01</th>\n",
              "      <td>18.264945</td>\n",
              "    </tr>\n",
              "    <tr>\n",
              "      <th>2008-04-01</th>\n",
              "      <td>23.107677</td>\n",
              "    </tr>\n",
              "    <tr>\n",
              "      <th>2008-05-01</th>\n",
              "      <td>22.912510</td>\n",
              "    </tr>\n",
              "    <tr>\n",
              "      <th>2008-06-01</th>\n",
              "      <td>19.431740</td>\n",
              "    </tr>\n",
              "  </tbody>\n",
              "</table>\n",
              "<p>204 rows × 1 columns</p>\n",
              "</div>"
            ],
            "text/plain": [
              "                value\n",
              "date                 \n",
              "1991-07-01   3.526591\n",
              "1991-08-01   3.180891\n",
              "1991-09-01   3.252221\n",
              "1991-10-01   3.611003\n",
              "1991-11-01   3.565869\n",
              "...               ...\n",
              "2008-02-01  21.654285\n",
              "2008-03-01  18.264945\n",
              "2008-04-01  23.107677\n",
              "2008-05-01  22.912510\n",
              "2008-06-01  19.431740\n",
              "\n",
              "[204 rows x 1 columns]"
            ]
          },
          "metadata": {
            "tags": []
          },
          "execution_count": 9
        }
      ]
    },
    {
      "cell_type": "code",
      "metadata": {
        "colab": {
          "base_uri": "https://localhost:8080/"
        },
        "id": "mHLe5_TyDaMq",
        "outputId": "ef7e93b4-5871-4f6a-9db7-1d917bd3f579"
      },
      "source": [
        "base2.index"
      ],
      "execution_count": 10,
      "outputs": [
        {
          "output_type": "execute_result",
          "data": {
            "text/plain": [
              "DatetimeIndex(['1991-07-01', '1991-08-01', '1991-09-01', '1991-10-01',\n",
              "               '1991-11-01', '1991-12-01', '1992-01-01', '1992-02-01',\n",
              "               '1992-03-01', '1992-04-01',\n",
              "               ...\n",
              "               '2007-09-01', '2007-10-01', '2007-11-01', '2007-12-01',\n",
              "               '2008-01-01', '2008-02-01', '2008-03-01', '2008-04-01',\n",
              "               '2008-05-01', '2008-06-01'],\n",
              "              dtype='datetime64[ns]', name='date', length=204, freq=None)"
            ]
          },
          "metadata": {
            "tags": []
          },
          "execution_count": 10
        }
      ]
    },
    {
      "cell_type": "code",
      "metadata": {
        "colab": {
          "base_uri": "https://localhost:8080/"
        },
        "id": "vxBkcgsgBr56",
        "outputId": "c77f2175-4094-46bc-f2ce-284746c7b1c2"
      },
      "source": [
        "serieTemporal = base2['value']\n",
        "serieTemporal"
      ],
      "execution_count": 11,
      "outputs": [
        {
          "output_type": "execute_result",
          "data": {
            "text/plain": [
              "date\n",
              "1991-07-01     3.526591\n",
              "1991-08-01     3.180891\n",
              "1991-09-01     3.252221\n",
              "1991-10-01     3.611003\n",
              "1991-11-01     3.565869\n",
              "                ...    \n",
              "2008-02-01    21.654285\n",
              "2008-03-01    18.264945\n",
              "2008-04-01    23.107677\n",
              "2008-05-01    22.912510\n",
              "2008-06-01    19.431740\n",
              "Name: value, Length: 204, dtype: float64"
            ]
          },
          "metadata": {
            "tags": []
          },
          "execution_count": 11
        }
      ]
    },
    {
      "cell_type": "code",
      "metadata": {
        "colab": {
          "base_uri": "https://localhost:8080/"
        },
        "id": "-S19CpMcDtii",
        "outputId": "4eb9b4c8-6451-428b-bcf6-529fc93b898f"
      },
      "source": [
        "#Valor máximo\n",
        "serieTemporal.index.max()"
      ],
      "execution_count": 12,
      "outputs": [
        {
          "output_type": "execute_result",
          "data": {
            "text/plain": [
              "Timestamp('2008-06-01 00:00:00')"
            ]
          },
          "metadata": {
            "tags": []
          },
          "execution_count": 12
        }
      ]
    },
    {
      "cell_type": "code",
      "metadata": {
        "colab": {
          "base_uri": "https://localhost:8080/"
        },
        "id": "Ol07GQrXECE4",
        "outputId": "c0897cfb-17a6-4594-f915-b7d6ab7ba949"
      },
      "source": [
        "#Valor mínimo\n",
        "serieTemporal.index.min()"
      ],
      "execution_count": 13,
      "outputs": [
        {
          "output_type": "execute_result",
          "data": {
            "text/plain": [
              "Timestamp('1991-07-01 00:00:00')"
            ]
          },
          "metadata": {
            "tags": []
          },
          "execution_count": 13
        }
      ]
    },
    {
      "cell_type": "code",
      "metadata": {
        "colab": {
          "base_uri": "https://localhost:8080/",
          "height": 265
        },
        "id": "ahtHto7qEKso",
        "outputId": "1094ac5f-91f0-4d17-e3af-8e0dec61d667"
      },
      "source": [
        "#Visualização da série temporal completa\n",
        "plt.plot(serieTemporal)\n",
        "plt.show()"
      ],
      "execution_count": 14,
      "outputs": [
        {
          "output_type": "display_data",
          "data": {
            "image/png": "[encoded data removed]",
            "text/plain": [
              "<Figure size 432x288 with 1 Axes>"
            ]
          },
          "metadata": {
            "tags": [],
            "needs_background": "light"
          }
        }
      ]
    },
    {
      "cell_type": "code",
      "metadata": {
        "colab": {
          "base_uri": "https://localhost:8080/",
          "height": 265
        },
        "id": "dbsrnG9jEfAA",
        "outputId": "760ae220-c69a-440f-9e32-4c09be1a41cc"
      },
      "source": [
        "#Visualização por ano\n",
        "serieT_ano = serieTemporal.resample('A').sum()\n",
        "plt.plot(serieT_ano)\n",
        "plt.show()"
      ],
      "execution_count": 15,
      "outputs": [
        {
          "output_type": "display_data",
          "data": {
            "image/png": "[encoded data removed]",
            "text/plain": [
              "<Figure size 432x288 with 1 Axes>"
            ]
          },
          "metadata": {
            "tags": [],
            "needs_background": "light"
          }
        }
      ]
    },
    {
      "cell_type": "code",
      "metadata": {
        "colab": {
          "base_uri": "https://localhost:8080/"
        },
        "id": "x8cSeH7sFUCW",
        "outputId": "06b2aa35-333c-4fdc-ef65-bf6ce13ddc47"
      },
      "source": [
        "serieT_ano"
      ],
      "execution_count": 16,
      "outputs": [
        {
          "output_type": "execute_result",
          "data": {
            "text/plain": [
              "date\n",
              "1991-12-31     21.442946\n",
              "1992-12-31     45.686946\n",
              "1993-12-31     55.532688\n",
              "1994-12-31     60.816080\n",
              "1995-12-31     67.326599\n",
              "1996-12-31     77.397927\n",
              "1997-12-31     85.131672\n",
              "1998-12-31     93.310626\n",
              "1999-12-31    105.959043\n",
              "2000-12-31    122.496586\n",
              "2001-12-31    136.467442\n",
              "2002-12-31    149.066135\n",
              "2003-12-31    156.464261\n",
              "2004-12-31    183.798935\n",
              "2005-12-31    199.655595\n",
              "2006-12-31    220.354676\n",
              "2007-12-31    265.718966\n",
              "2008-12-31    135.036513\n",
              "Freq: A-DEC, Name: value, dtype: float64"
            ]
          },
          "metadata": {
            "tags": []
          },
          "execution_count": 16
        }
      ]
    },
    {
      "cell_type": "code",
      "metadata": {
        "colab": {
          "base_uri": "https://localhost:8080/",
          "height": 265
        },
        "id": "IkdsNcGWEvGD",
        "outputId": "0b17f8f1-f333-4b24-d9c9-dcd580d7c434"
      },
      "source": [
        "#Visualização por mês\n",
        "serieT_mes = serieTemporal.groupby([lambda x: x.month]).sum()\n",
        "plt.plot(serieT_mes)\n",
        "plt.show()"
      ],
      "execution_count": 17,
      "outputs": [
        {
          "output_type": "display_data",
          "data": {
            "image/png": "[encoded data removed]",
            "text/plain": [
              "<Figure size 432x288 with 1 Axes>"
            ]
          },
          "metadata": {
            "tags": [],
            "needs_background": "light"
          }
        }
      ]
    },
    {
      "cell_type": "code",
      "metadata": {
        "colab": {
          "base_uri": "https://localhost:8080/"
        },
        "id": "Yz1GBfAxFW5O",
        "outputId": "4a375ae2-d1ee-4f23-cde0-2a92f2f5a213"
      },
      "source": [
        "serieT_mes"
      ],
      "execution_count": 18,
      "outputs": [
        {
          "output_type": "execute_result",
          "data": {
            "text/plain": [
              "1     240.915798\n",
              "2     146.418128\n",
              "3     161.324049\n",
              "4     162.403335\n",
              "5     179.582789\n",
              "6     173.778687\n",
              "7     169.762280\n",
              "8     174.500700\n",
              "9     173.979159\n",
              "10    187.294785\n",
              "11    195.266107\n",
              "12    216.437820\n",
              "Name: value, dtype: float64"
            ]
          },
          "metadata": {
            "tags": []
          },
          "execution_count": 18
        }
      ]
    },
    {
      "cell_type": "code",
      "metadata": {
        "colab": {
          "base_uri": "https://localhost:8080/",
          "height": 265
        },
        "id": "FZf5ELj5F3FQ",
        "outputId": "a13e60e7-e920-40b6-96f2-bbb7e2e0ddfc"
      },
      "source": [
        "#Visualização entre datas específicas\n",
        "serieT_datas = serieTemporal['1991-01-01':'1998-05-20']\n",
        "plt.plot(serieT_datas)\n",
        "plt.show()"
      ],
      "execution_count": 19,
      "outputs": [
        {
          "output_type": "display_data",
          "data": {
            "image/png": "[encoded data removed]",
            "text/plain": [
              "<Figure size 432x288 with 1 Axes>"
            ]
          },
          "metadata": {
            "tags": [],
            "needs_background": "light"
          }
        }
      ]
    },
    {
      "cell_type": "code",
      "metadata": {
        "id": "BUJq4MaUGsCO"
      },
      "source": [
        "#Decomposição da série temporal, criando uma variável para cada formato\n",
        "decomposicao = seasonal_decompose(serieTemporal)"
      ],
      "execution_count": 20,
      "outputs": []
    },
    {
      "cell_type": "code",
      "metadata": {
        "colab": {
          "base_uri": "https://localhost:8080/"
        },
        "id": "qiarQfgcHFkW",
        "outputId": "d04dcd57-9b5a-4d33-ec13-52a7b98df0c9"
      },
      "source": [
        "#Tendência\n",
        "tendencia = decomposicao.trend\n",
        "tendencia"
      ],
      "execution_count": 21,
      "outputs": [
        {
          "output_type": "execute_result",
          "data": {
            "text/plain": [
              "date\n",
              "1991-07-01   NaN\n",
              "1991-08-01   NaN\n",
              "1991-09-01   NaN\n",
              "1991-10-01   NaN\n",
              "1991-11-01   NaN\n",
              "              ..\n",
              "2008-02-01   NaN\n",
              "2008-03-01   NaN\n",
              "2008-04-01   NaN\n",
              "2008-05-01   NaN\n",
              "2008-06-01   NaN\n",
              "Name: trend, Length: 204, dtype: float64"
            ]
          },
          "metadata": {
            "tags": []
          },
          "execution_count": 21
        }
      ]
    },
    {
      "cell_type": "code",
      "metadata": {
        "colab": {
          "base_uri": "https://localhost:8080/"
        },
        "id": "GCg6h2SRHTlP",
        "outputId": "5d711e34-f4ba-4f7a-ed86-3ba5f1ad43ba"
      },
      "source": [
        "#Sazonalidade\n",
        "sazonal = decomposicao.seasonal\n",
        "sazonal"
      ],
      "execution_count": 22,
      "outputs": [
        {
          "output_type": "execute_result",
          "data": {
            "text/plain": [
              "date\n",
              "1991-07-01   -0.227809\n",
              "1991-08-01   -0.023116\n",
              "1991-09-01   -0.149022\n",
              "1991-10-01    0.569161\n",
              "1991-11-01    0.966836\n",
              "                ...   \n",
              "2008-02-01   -2.272000\n",
              "2008-03-01   -1.233826\n",
              "2008-04-01   -1.571464\n",
              "2008-05-01   -0.593198\n",
              "2008-06-01   -0.850864\n",
              "Name: seasonal, Length: 204, dtype: float64"
            ]
          },
          "metadata": {
            "tags": []
          },
          "execution_count": 22
        }
      ]
    },
    {
      "cell_type": "code",
      "metadata": {
        "colab": {
          "base_uri": "https://localhost:8080/"
        },
        "id": "DCTdNH0ZHZPh",
        "outputId": "76f3d030-7b05-4cd8-cab9-b8154a611cf2"
      },
      "source": [
        "#Resíduos (dados que não fizeram parte da sazonalidade e nem da frequência, observações que não conseguem ser explicadas matematicamente)\n",
        "residuos = decomposicao.resid\n",
        "residuos"
      ],
      "execution_count": 23,
      "outputs": [
        {
          "output_type": "execute_result",
          "data": {
            "text/plain": [
              "date\n",
              "1991-07-01   NaN\n",
              "1991-08-01   NaN\n",
              "1991-09-01   NaN\n",
              "1991-10-01   NaN\n",
              "1991-11-01   NaN\n",
              "              ..\n",
              "2008-02-01   NaN\n",
              "2008-03-01   NaN\n",
              "2008-04-01   NaN\n",
              "2008-05-01   NaN\n",
              "2008-06-01   NaN\n",
              "Name: resid, Length: 204, dtype: float64"
            ]
          },
          "metadata": {
            "tags": []
          },
          "execution_count": 23
        }
      ]
    },
    {
      "cell_type": "code",
      "metadata": {
        "colab": {
          "base_uri": "https://localhost:8080/",
          "height": 265
        },
        "id": "69Imc6n4HezL",
        "outputId": "fd1acb3a-11f1-402c-bf21-44ac54425c9b"
      },
      "source": [
        "#Visualização de gráfico para cada formato da série temporal\n",
        "plt.plot(sazonal)\n",
        "plt.show()"
      ],
      "execution_count": 24,
      "outputs": [
        {
          "output_type": "display_data",
          "data": {
            "image/png": "[encoded data removed]",
            "text/plain": [
              "<Figure size 432x288 with 1 Axes>"
            ]
          },
          "metadata": {
            "tags": [],
            "needs_background": "light"
          }
        }
      ]
    },
    {
      "cell_type": "code",
      "metadata": {
        "colab": {
          "base_uri": "https://localhost:8080/",
          "height": 265
        },
        "id": "-Gdi94XEHnvS",
        "outputId": "dbabaaed-a67f-4ad0-e714-00f031370ddb"
      },
      "source": [
        "plt.plot(tendencia)\n",
        "plt.show()"
      ],
      "execution_count": 25,
      "outputs": [
        {
          "output_type": "display_data",
          "data": {
            "image/png": "[encoded data removed]",
            "text/plain": [
              "<Figure size 432x288 with 1 Axes>"
            ]
          },
          "metadata": {
            "tags": [],
            "needs_background": "light"
          }
        }
      ]
    },
    {
      "cell_type": "code",
      "metadata": {
        "colab": {
          "base_uri": "https://localhost:8080/",
          "height": 265
        },
        "id": "X0p49NUlHrwi",
        "outputId": "2694f489-f72d-4eaa-9bec-379291e36e30"
      },
      "source": [
        "plt.plot(residuos)\n",
        "plt.show()"
      ],
      "execution_count": 26,
      "outputs": [
        {
          "output_type": "display_data",
          "data": {
            "image/png": "[encoded data removed]",
            "text/plain": [
              "<Figure size 432x288 with 1 Axes>"
            ]
          },
          "metadata": {
            "tags": [],
            "needs_background": "light"
          }
        }
      ]
    },
    {
      "cell_type": "code",
      "metadata": {
        "colab": {
          "base_uri": "https://localhost:8080/",
          "height": 298
        },
        "id": "1xHTfCCzIPgJ",
        "outputId": "3920b859-64cc-461c-cfb9-54ae6306d953"
      },
      "source": [
        "plt.subplot(4, 1, 1)\n",
        "plt.plot(serieTemporal, label = 'Original')\n",
        "plt.legend(loc = 'best')\n",
        "\n",
        "plt.subplot(4, 1, 2)\n",
        "plt.plot(tendencia, label = 'Tendência')\n",
        "plt.legend(loc = 'best')\n",
        "\n",
        "plt.subplot(4, 1, 3)\n",
        "plt.plot(sazonal, label = 'Sazonalidade')\n",
        "plt.legend(loc = 'best')\n",
        "\n",
        "plt.subplot(4, 1, 4)\n",
        "plt.plot(residuos, label = 'Resíduos')\n",
        "plt.legend(loc = 'best')\n",
        "plt.plot()\n",
        "plt.tight_layout()"
      ],
      "execution_count": 27,
      "outputs": [
        {
          "output_type": "display_data",
          "data": {
            "image/png": "[encoded data removed]",
            "text/plain": [
              "<Figure size 432x288 with 4 Axes>"
            ]
          },
          "metadata": {
            "tags": [],
            "needs_background": "light"
          }
        }
      ]
    },
    {
      "cell_type": "code",
      "metadata": {
        "colab": {
          "base_uri": "https://localhost:8080/",
          "height": 507
        },
        "id": "QDSaUEuWK54i",
        "outputId": "9217429a-ad9a-49fd-bd9f-21ddeb99ab1f"
      },
      "source": [
        "#Implementação do autoarima para descoberta automática dos melhores parâmetros\n",
        "modelo_auto = auto_arima(serieTemporal, m = 12, seasonal = True, trace = False)\n",
        "modelo_auto.summary()"
      ],
      "execution_count": 28,
      "outputs": [
        {
          "output_type": "execute_result",
          "data": {
            "text/html": [
              "<table class=\"simpletable\">\n",
              "<caption>SARIMAX Results</caption>\n",
              "<tr>\n",
              "  <th>Dep. Variable:</th>                  <td>y</td>               <th>  No. Observations:  </th>    <td>204</td>  \n",
              "</tr>\n",
              "<tr>\n",
              "  <th>Model:</th>           <td>SARIMAX(4, 1, 1)x(0, 1, 1, 12)</td> <th>  Log Likelihood     </th> <td>-252.988</td>\n",
              "</tr>\n",
              "<tr>\n",
              "  <th>Date:</th>                   <td>Sat, 28 Nov 2020</td>        <th>  AIC                </th>  <td>519.977</td>\n",
              "</tr>\n",
              "<tr>\n",
              "  <th>Time:</th>                       <td>12:25:02</td>            <th>  BIC                </th>  <td>542.743</td>\n",
              "</tr>\n",
              "<tr>\n",
              "  <th>Sample:</th>                         <td>0</td>               <th>  HQIC               </th>  <td>529.198</td>\n",
              "</tr>\n",
              "<tr>\n",
              "  <th></th>                             <td> - 204</td>             <th>                     </th>     <td> </td>   \n",
              "</tr>\n",
              "<tr>\n",
              "  <th>Covariance Type:</th>               <td>opg</td>              <th>                     </th>     <td> </td>   \n",
              "</tr>\n",
              "</table>\n",
              "<table class=\"simpletable\">\n",
              "<tr>\n",
              "      <td></td>        <th>coef</th>     <th>std err</th>      <th>z</th>      <th>P>|z|</th>  <th>[0.025</th>    <th>0.975]</th>  \n",
              "</tr>\n",
              "<tr>\n",
              "  <th>ar.L1</th>    <td>   -0.2112</td> <td>    0.126</td> <td>   -1.683</td> <td> 0.092</td> <td>   -0.457</td> <td>    0.035</td>\n",
              "</tr>\n",
              "<tr>\n",
              "  <th>ar.L2</th>    <td>    0.1221</td> <td>    0.120</td> <td>    1.018</td> <td> 0.309</td> <td>   -0.113</td> <td>    0.357</td>\n",
              "</tr>\n",
              "<tr>\n",
              "  <th>ar.L3</th>    <td>    0.1174</td> <td>    0.090</td> <td>    1.311</td> <td> 0.190</td> <td>   -0.058</td> <td>    0.293</td>\n",
              "</tr>\n",
              "<tr>\n",
              "  <th>ar.L4</th>    <td>   -0.2340</td> <td>    0.077</td> <td>   -3.021</td> <td> 0.003</td> <td>   -0.386</td> <td>   -0.082</td>\n",
              "</tr>\n",
              "<tr>\n",
              "  <th>ma.L1</th>    <td>   -0.7149</td> <td>    0.113</td> <td>   -6.315</td> <td> 0.000</td> <td>   -0.937</td> <td>   -0.493</td>\n",
              "</tr>\n",
              "<tr>\n",
              "  <th>ma.S.L12</th> <td>   -0.4786</td> <td>    0.063</td> <td>   -7.613</td> <td> 0.000</td> <td>   -0.602</td> <td>   -0.355</td>\n",
              "</tr>\n",
              "<tr>\n",
              "  <th>sigma2</th>   <td>    0.8086</td> <td>    0.053</td> <td>   15.389</td> <td> 0.000</td> <td>    0.706</td> <td>    0.912</td>\n",
              "</tr>\n",
              "</table>\n",
              "<table class=\"simpletable\">\n",
              "<tr>\n",
              "  <th>Ljung-Box (Q):</th>          <td>54.86</td> <th>  Jarque-Bera (JB):  </th> <td>176.73</td>\n",
              "</tr>\n",
              "<tr>\n",
              "  <th>Prob(Q):</th>                <td>0.06</td>  <th>  Prob(JB):          </th>  <td>0.00</td> \n",
              "</tr>\n",
              "<tr>\n",
              "  <th>Heteroskedasticity (H):</th> <td>15.18</td> <th>  Skew:              </th>  <td>-0.36</td>\n",
              "</tr>\n",
              "<tr>\n",
              "  <th>Prob(H) (two-sided):</th>    <td>0.00</td>  <th>  Kurtosis:          </th>  <td>7.66</td> \n",
              "</tr>\n",
              "</table><br/><br/>Warnings:<br/>[1] Covariance matrix calculated using the outer product of gradients (complex-step)."
            ],
            "text/plain": [
              "<class 'statsmodels.iolib.summary.Summary'>\n",
              "\"\"\"\n",
              "                                     SARIMAX Results                                      \n",
              "==========================================================================================\n",
              "Dep. Variable:                                  y   No. Observations:                  204\n",
              "Model:             SARIMAX(4, 1, 1)x(0, 1, 1, 12)   Log Likelihood                -252.988\n",
              "Date:                            Sat, 28 Nov 2020   AIC                            519.977\n",
              "Time:                                    12:25:02   BIC                            542.743\n",
              "Sample:                                         0   HQIC                           529.198\n",
              "                                            - 204                                         \n",
              "Covariance Type:                              opg                                         \n",
              "==============================================================================\n",
              "                 coef    std err          z      P>|z|      [0.025      0.975]\n",
              "------------------------------------------------------------------------------\n",
              "ar.L1         -0.2112      0.126     -1.683      0.092      -0.457       0.035\n",
              "ar.L2          0.1221      0.120      1.018      0.309      -0.113       0.357\n",
              "ar.L3          0.1174      0.090      1.311      0.190      -0.058       0.293\n",
              "ar.L4         -0.2340      0.077     -3.021      0.003      -0.386      -0.082\n",
              "ma.L1         -0.7149      0.113     -6.315      0.000      -0.937      -0.493\n",
              "ma.S.L12      -0.4786      0.063     -7.613      0.000      -0.602      -0.355\n",
              "sigma2         0.8086      0.053     15.389      0.000       0.706       0.912\n",
              "===================================================================================\n",
              "Ljung-Box (Q):                       54.86   Jarque-Bera (JB):               176.73\n",
              "Prob(Q):                              0.06   Prob(JB):                         0.00\n",
              "Heteroskedasticity (H):              15.18   Skew:                            -0.36\n",
              "Prob(H) (two-sided):                  0.00   Kurtosis:                         7.66\n",
              "===================================================================================\n",
              "\n",
              "Warnings:\n",
              "[1] Covariance matrix calculated using the outer product of gradients (complex-step).\n",
              "\"\"\""
            ]
          },
          "metadata": {
            "tags": []
          },
          "execution_count": 28
        }
      ]
    },
    {
      "cell_type": "code",
      "metadata": {
        "colab": {
          "base_uri": "https://localhost:8080/"
        },
        "id": "gLaHboKdLcl_",
        "outputId": "13a05b31-0b57-4aa6-d460-d7193f628bed"
      },
      "source": [
        "proximos_12 = modelo_auto.predict(n_periods = 12)\n",
        "proximos_12"
      ],
      "execution_count": 29,
      "outputs": [
        {
          "output_type": "execute_result",
          "data": {
            "text/plain": [
              "array([25.17831022, 23.46220294, 24.38065664, 26.25682221, 26.66976415,\n",
              "       28.52002151, 31.49379779, 22.4323971 , 22.27540373, 23.3835532 ,\n",
              "       25.28277084, 23.14484041])"
            ]
          },
          "metadata": {
            "tags": []
          },
          "execution_count": 29
        }
      ]
    }
  ]
}